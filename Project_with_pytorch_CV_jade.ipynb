{
  "nbformat": 4,
  "nbformat_minor": 0,
  "metadata": {
    "colab": {
      "provenance": [],
      "gpuType": "T4"
    },
    "kernelspec": {
      "name": "python3",
      "display_name": "Python 3"
    },
    "language_info": {
      "name": "python"
    },
    "accelerator": "GPU"
  },
  "cells": [
    {
      "cell_type": "markdown",
      "source": [
        "# LAPD lab - Machine learning project\n",
        "\n",
        "This project aims to predict the GHI two hours in advance locally, from meteo data, date data and webcam images.\n",
        "\n",
        "We are providing a machine learning model to achieve this task."
      ],
      "metadata": {
        "id": "vfCzu0V6rU2W"
      }
    },
    {
      "cell_type": "markdown",
      "source": [
        "## Environnement and data loading"
      ],
      "metadata": {
        "id": "sewTy6E9tfYy"
      }
    },
    {
      "cell_type": "markdown",
      "source": [
        "First, we import all important packages, data, and set the seed (for torch)."
      ],
      "metadata": {
        "id": "iG2LbXBUsOfd"
      }
    },
    {
      "cell_type": "code",
      "execution_count": null,
      "metadata": {
        "id": "VAAcv9Gu8edl"
      },
      "outputs": [],
      "source": [
        "#importing packages\n",
        "import numpy as np\n",
        "import pandas as pd\n",
        "import time\n",
        "import os\n",
        "from sklearn.metrics import mean_squared_error, mean_absolute_error, mean_absolute_percentage_error\n",
        "from sklearn.linear_model import Ridge, ElasticNet, LinearRegression\n",
        "from sklearn.model_selection import GridSearchCV, train_test_split\n",
        "from sklearn.model_selection import KFold\n",
        "import math\n",
        "import matplotlib.pyplot as plt\n",
        "import plotly.graph_objects as go\n",
        "import h5py\n",
        "import sys\n",
        "import datetime\n",
        "import math\n",
        "\n",
        "%matplotlib inline\n",
        "import torch\n",
        "import torch.nn as nn\n",
        "import torch.nn.functional as F\n",
        "from torch.utils.data import Dataset, DataLoader, random_split, Subset\n",
        "from torch.utils.data.sampler import SequentialSampler\n",
        "from torchvision import transforms, utils\n",
        "import cv2\n",
        "\n",
        "from google.colab import files ### file.download() to download a file from colab instead of right clicking"
      ]
    },
    {
      "cell_type": "code",
      "source": [
        "# Set fixed random number seed\n",
        "torch.manual_seed(3174)"
      ],
      "metadata": {
        "id": "kKwI1c8PHrry",
        "colab": {
          "base_uri": "https://localhost:8080/"
        },
        "outputId": "29df46fe-32f2-4b20-fcc9-f62bd3fc4d69"
      },
      "execution_count": null,
      "outputs": [
        {
          "output_type": "execute_result",
          "data": {
            "text/plain": [
              "<torch._C.Generator at 0x7e2a71b8e970>"
            ]
          },
          "metadata": {},
          "execution_count": 47
        }
      ]
    },
    {
      "cell_type": "code",
      "source": [
        "#Mounting Drive\n",
        "from google.colab import drive\n",
        "# # # # This will prompt for authorization.\n",
        "drive.mount(\"/content/drive\")\n",
        "\n",
        "## change path to where the folder of the images is\n",
        "#path = 'drive/MyDrive/Colab Notebooks/CSS 433/data' #antonin\n",
        "path = 'drive/MyDrive/master/CSS 433/data' #Jade\n",
        "for file in os.listdir(path):\n",
        "  print(file)"
      ],
      "metadata": {
        "colab": {
          "base_uri": "https://localhost:8080/"
        },
        "id": "FYpUjFMl90-U",
        "outputId": "2d78f8fc-827f-4926-ffd2-767a4162812a"
      },
      "execution_count": null,
      "outputs": [
        {
          "output_type": "stream",
          "name": "stdout",
          "text": [
            "Drive already mounted at /content/drive; to attempt to forcibly remount, call drive.mount(\"/content/drive\", force_remount=True).\n",
            "time.npy\n",
            "new_irradiance.xlsx\n",
            "persistent_level.npy\n",
            "ground_truth.npy\n",
            "labels.npy\n",
            "meteo.xlsx\n",
            "X.npy\n"
          ]
        }
      ]
    },
    {
      "cell_type": "code",
      "source": [
        "# IMAGE DATA\n",
        "#time_image = np.load(os.path.join(path, 'time.npy'),allow_pickle=True)\n",
        "#ground_truth = np.load(os.path.join(path, 'ground_truth.npy'),allow_pickle=True)\n",
        "#labels = ghi_dataset.labels\n",
        "\n",
        "# Extract day, month, and year using list comprehension\n",
        "#date_info_image = [(dt.day, dt.month, dt.year) if isinstance(dt, datetime) else\n",
        "#                   (datetime.strptime(dt, '%Y-%m-%d %H:%M:%S').day,\n",
        "#                    datetime.strptime(dt, '%Y-%m-%d %H:%M:%S').month,\n",
        "#                    datetime.strptime(dt, '%Y-%m-%d %H:%M:%S').year)\n",
        "#                   for dt in time_image]\n",
        "\n",
        "# List comprehension to extract day values for all dates\n",
        "#day_values_image = [day for day, _, _ in date_info_image]\n",
        "#month_values_image = [month for _, month, _ in date_info_image]\n",
        "#year_values_image = [year for _ , _, year in date_info_image]\n",
        "#month_and_year_values_image = [(month, year) for _, month, year in date_info_image]\n",
        "\n",
        "# METEO DATA\n",
        "# Construct the full path to the Excel file\n",
        "#file_path = os.path.join(path, 'meteo.xlsx')\n",
        "# Use pandas to read the Excel file\n",
        "#df = pd.read_excel(file_path)\n",
        "\n",
        "#date = df['Date'].values\n",
        "#time_meteo = df['Time'].values\n",
        "#real_time_ch = df['Real_time_CH'].values\n",
        "#air_temp = df['Air_temp'].values\n",
        "#wind_speed = df['Wind_speed'].values\n",
        "#wind_dir = df['Wind_dir'].values\n",
        "\n",
        "# Extract day, month, and year using list comprehension\n",
        "#date_info = [(datetime.strptime(date_, '%d.%m.%Y').day,\n",
        "#              datetime.strptime(date_, '%d.%m.%Y').month,\n",
        "#              datetime.strptime(date_, '%d.%m.%Y').year) for date_ in date]\n",
        "\n",
        "# List comprehension to extract day values for all dates\n",
        "#day_values_meteo = [day for day, _, _ in date_info]\n",
        "#month_values_meteo = [month for _, month, _ in date_info]\n",
        "#year_values_meteo = [year for _ , _, year in date_info]\n",
        "#month_and_year_values_meteo = [(month, year) for _, month, year in date_info]"
      ],
      "metadata": {
        "id": "uGK08chBk2Ds"
      },
      "execution_count": null,
      "outputs": []
    },
    {
      "cell_type": "markdown",
      "source": [
        "Below we create a class GHIDataset.\n",
        "\n",
        "This class allow use to load the dataset and access to each element individually."
      ],
      "metadata": {
        "id": "my5bHkMYsqRT"
      }
    },
    {
      "cell_type": "code",
      "source": [
        "class GHIDataset(Dataset):\n",
        "    \"\"\"GHI dataset.\"\"\"\n",
        "\n",
        "    def __init__(self, root_dir, labels, images, transform_input=None, transform_label=None):\n",
        "        \"\"\"\n",
        "        Arguments:\n",
        "            root_dir  (string) : Path to folder with all the files.\n",
        "            labels    (string) : Name of the file with labels.\n",
        "            images    (string) : Name of the file with images.\n",
        "            transform_input (callable, optional): Optional transform to be applied on a sample. .\n",
        "            transform_label (callable, optional): Optional transform to be applied on the label.\n",
        "        \"\"\"\n",
        "\n",
        "        self.root_dir = root_dir\n",
        "        self.labels = torch.from_numpy(np.load(os.path.join(self.root_dir,labels)))\n",
        "        self.images = np.load(os.path.join(self.root_dir,images),mmap_mode='c')\n",
        "\n",
        "        # Define the transforms to apply to labels or input\n",
        "        self.transform_input = transform_input\n",
        "        self.transform_label = transform_label\n",
        "\n",
        "    def __len__(self):\n",
        "        return self.labels.size()[0]\n",
        "\n",
        "    def __getitem__(self, idx):\n",
        "        \"\"\"\n",
        "        Arguments:\n",
        "            idx (list or torch.Tensor) : list of two dimension indicating which sample\n",
        "                                         to get and which webcam.\n",
        "        \"\"\"\n",
        "        if torch.is_tensor(idx):\n",
        "            idx = idx.tolist()\n",
        "\n",
        "        # Import from memory only the images that we want\n",
        "        image0 = np.array(self.images[idx,0])\n",
        "        image1 = np.array(self.images[idx,1])\n",
        "        labels = self.labels[idx]\n",
        "\n",
        "        # Apply the transforms\n",
        "        if self.transform_input:\n",
        "            image0 = self.transform_input(image0)\n",
        "            image1 = self.transform_input(image1)\n",
        "\n",
        "        if self.transform_label:\n",
        "            labels = self.transform_label(labels)\n",
        "\n",
        "\n",
        "        # Returns the sample as a tuple of (image0, image1, lables)\n",
        "        return image0,image1,labels"
      ],
      "metadata": {
        "id": "8Pu3cPwN_8QG"
      },
      "execution_count": null,
      "outputs": []
    },
    {
      "cell_type": "markdown",
      "source": [
        "Below we load the dataset and transfom the images."
      ],
      "metadata": {
        "id": "dzLKJARxtQmb"
      }
    },
    {
      "cell_type": "code",
      "source": [
        "img_size = 100\n",
        "\n",
        "# Create a transform, it converts the np.array to a PIL Image,\n",
        "# then resize the image to img_size x img_size, then converts the image to tensor\n",
        "\n",
        "transform = transforms.Compose([transforms.ToPILImage(),transforms.Resize(img_size),transforms.ToTensor()])\n",
        "\n",
        "# Creates the dataset containing all the samples\n",
        "ghi_dataset = GHIDataset(path,'labels.npy','X.npy',transform)"
      ],
      "metadata": {
        "id": "abs-UtRAAKeA"
      },
      "execution_count": null,
      "outputs": []
    },
    {
      "cell_type": "markdown",
      "source": [
        "We define a function to display a sample"
      ],
      "metadata": {
        "id": "J4hfpN-cikBo"
      }
    },
    {
      "cell_type": "code",
      "source": [
        "def sample_display(image1,image2, label):\n",
        "  # The image is a now a Torch vector, it needs to be reshaped for display\n",
        "  plt.imshow(image1.permute(1,2,0))\n",
        "  print(\"Label : \", label.item())"
      ],
      "metadata": {
        "id": "Y3G0snzh1cMv"
      },
      "execution_count": null,
      "outputs": []
    },
    {
      "cell_type": "markdown",
      "source": [
        "Small example to display a few samples"
      ],
      "metadata": {
        "id": "HMnHSSy3iV5d"
      }
    },
    {
      "cell_type": "code",
      "source": [
        "sample_size = 4\n",
        "\n",
        "for i, sample in enumerate(ghi_dataset):\n",
        "    print(i, sample[0].shape, sample[1].shape, sample[2].shape)\n",
        "\n",
        "    ax = plt.subplot(1, sample_size, i + 1)\n",
        "    plt.tight_layout()\n",
        "    ax.set_title('Sample #{}'.format(i))\n",
        "    ax.axis('off')\n",
        "    sample_display(*sample) #display image and label\n",
        "\n",
        "    if i == (sample_size-1):\n",
        "        plt.show()\n",
        "        break"
      ],
      "metadata": {
        "colab": {
          "base_uri": "https://localhost:8080/",
          "height": 313
        },
        "id": "SN_PeUnHz1WX",
        "outputId": "4320a9ef-0e76-4e76-9869-91f3a267c481"
      },
      "execution_count": null,
      "outputs": [
        {
          "output_type": "stream",
          "name": "stdout",
          "text": [
            "0 torch.Size([3, 100, 100]) torch.Size([3, 100, 100]) torch.Size([])\n",
            "Label :  133.0\n",
            "1 torch.Size([3, 100, 100]) torch.Size([3, 100, 100]) torch.Size([])\n",
            "Label :  127.0\n",
            "2 torch.Size([3, 100, 100]) torch.Size([3, 100, 100]) torch.Size([])\n",
            "Label :  140.0\n",
            "3 torch.Size([3, 100, 100]) torch.Size([3, 100, 100]) torch.Size([])\n",
            "Label :  141.0\n"
          ]
        },
        {
          "output_type": "display_data",
          "data": {
            "text/plain": [
              "<Figure size 640x480 with 4 Axes>"
            ],
            "image/png": "[encoded data removed]"
          },
          "metadata": {}
        }
      ]
    },
    {
      "cell_type": "markdown",
      "source": [
        "## Data management"
      ],
      "metadata": {
        "id": "Yp4jRpCWtoLW"
      }
    },
    {
      "cell_type": "markdown",
      "source": [
        "The data need to be splitted between train and test set.\n",
        "\n",
        "Here we define a function to split the dataset into a test set, a validation set and a train set.\n",
        "\n",
        "We also define a function to split the dataset in a given site to choose the test set we want.\n",
        "\n",
        "Note that we do not shuffle the data as it is time dependent. What is significant here is that we test for the last values of the set.\n"
      ],
      "metadata": {
        "id": "NZ2ESNdQjdgz"
      }
    },
    {
      "cell_type": "code",
      "source": [
        "def split_at_location(dataset, location = 0, lenght = 100):\n",
        "    \"\"\"\n",
        "      extract the test set at a givent location in the total dataset\n",
        "        Arguments:\n",
        "            location  (int) : position in the dataset to start to cut\n",
        "            lenght (int) : lenght of the test set\n",
        "        \"\"\"\n",
        "    train_idx = np.arange(len(dataset))\n",
        "    # Calculate start and stop indices while preventing out-of-range\n",
        "    start_idx = max(0,location)\n",
        "    end_idx = min(len(dataset),location+lenght)\n",
        "\n",
        "    subset = train_idx[start_idx:end_idx]\n",
        "\n",
        "      # Create the modified training set without the 5%\n",
        "    modified_train = np.concatenate([train_idx[:start_idx], train_idx[end_idx:]])\n",
        "\n",
        "    return Subset(dataset, modified_train), Subset(dataset, subset)\n",
        "\n",
        "def train_val_dataset(dataset,test_split=0.8, val_split=0.2):\n",
        "    \"\"\"\n",
        "      split dataset in train set, validation set, test set\n",
        "    \"\"\"\n",
        "\n",
        "    test_idx, train_idx = train_test_split(list(range(len(dataset))), test_size=test_split,shuffle=False)\n",
        "    train_idx, val_idx = train_test_split(train_idx,test_size=val_split,shuffle=False)\n",
        "\n",
        "    return Subset(dataset, train_idx), Subset(dataset, val_idx), Subset(dataset, test_idx)"
      ],
      "metadata": {
        "id": "k1Xp7M2qMhGV"
      },
      "execution_count": null,
      "outputs": []
    },
    {
      "cell_type": "markdown",
      "source": [],
      "metadata": {
        "id": "5PXyi0Y6W3rp"
      }
    },
    {
      "cell_type": "code",
      "source": [
        "location = 1270\n",
        "\n",
        "ghi_train, ghi_test = split_at_location(ghi_dataset, location, 400)\n",
        "\n",
        "print(len(ghi_train))\n",
        "print(len(ghi_test))\n",
        "\n",
        "# below : in case of only one validation set, no cross validation\n",
        "\n",
        "#ghi_train ,ghi_val= split_at_location(ghi_train, 0, round(len(ghi_train)*0.10))\n",
        "\n",
        "#define the loader !\n",
        "#train_loader = DataLoader(ghi_train, batch_sampler=SequentialBatchSampler(np.arange(len(ghi_train)), batch_size=32, dec = 32))\n",
        "#test_loader = DataLoader(ghi_test, batch_sampler=SequentialBatchSampler(np.arange(len(ghi_test)), batch_size=32, dec = 32))\n"
      ],
      "metadata": {
        "colab": {
          "base_uri": "https://localhost:8080/"
        },
        "id": "5VRaudRjLFfX",
        "outputId": "bfe7b1e9-0406-4ac2-a877-12e075e278a1"
      },
      "execution_count": null,
      "outputs": [
        {
          "output_type": "stream",
          "name": "stdout",
          "text": [
            "10293\n",
            "400\n"
          ]
        }
      ]
    },
    {
      "cell_type": "markdown",
      "source": [
        "Finally we create the dataloader, to iterate on it as we compute each epoch.\n",
        "\n",
        "We define a custom batch sampler because we need to conserve the order of the samples in each batch. Moreover, we want the stride between each batch to be one and not the batch size. Such that for a dataset = [1,2,3,4,5,6] and a batch size of 3 we get [1,2,3], [2,3,4], [3,4,5], [4,5,6] as batches"
      ],
      "metadata": {
        "id": "aLXBt6j0kEGp"
      }
    },
    {
      "cell_type": "code",
      "source": [
        "from torch.utils.data import DataLoader\n",
        "from torch.utils.data.sampler import SequentialSampler\n",
        "\n",
        "class SequentialBatchSampler:\n",
        "    def __init__(self, data_source, batch_size, dec):\n",
        "        self.data_source = data_source\n",
        "        self.batch_size = batch_size\n",
        "        self.dec = dec\n",
        "\n",
        "    def __iter__(self):\n",
        "      i = 0\n",
        "      while i <= len(self.data_source)-self.batch_size-1:\n",
        "        yield self.data_source[i:i+self.batch_size]\n",
        "        i += self.dec"
      ],
      "metadata": {
        "id": "zNkGWmZJnUfY"
      },
      "execution_count": null,
      "outputs": []
    },
    {
      "cell_type": "markdown",
      "source": [
        "## Models\n",
        "\n",
        "we defined and tested several models for our purpose.\n",
        "\n",
        "- Only taking in account the images, convolutionnal layer + LSTM\n",
        "- Taking in account the images and meteo data (not implemented yet)\n",
        "- Transformer (not implemented yet)"
      ],
      "metadata": {
        "id": "Ie1V2awfrctB"
      }
    },
    {
      "cell_type": "code",
      "source": [
        "class Net(nn.Module):\n",
        "\n",
        "    def __init__(self):\n",
        "        super(Net, self).__init__()\n",
        "        self.conv1 = nn.Conv2d(6, 16, kernel_size=3) # input channels to 6 because 2 images ! (RGBx2)\n",
        "        self.bn1 = nn.BatchNorm2d(16)\n",
        "        self.conv2 = nn.Conv2d(16, 16, kernel_size=3)\n",
        "        self.bn2 = nn.BatchNorm2d(16)\n",
        "        self.pool1 = nn.MaxPool2d(kernel_size=2)\n",
        "        self.drop1 = nn.Dropout2d(p=0.3)\n",
        "        self.conv3 = nn.Conv2d(16, 32, kernel_size=3)\n",
        "        self.bn3 = nn.BatchNorm2d(32)\n",
        "        self.conv4 = nn.Conv2d(32, 32, kernel_size=3)\n",
        "        self.bn4 = nn.BatchNorm2d(32)\n",
        "        self.pool2 = nn.MaxPool2d(kernel_size=2)\n",
        "        self.drop2 = nn.Dropout2d(p=0.1)\n",
        "        self.lstm1 = nn.LSTM(32* 22* 22, 128, batch_first=True)\n",
        "        self.lstm2 = nn.LSTM(128, 64, batch_first=True)\n",
        "        self.fc1 = nn.Linear(64, 64)\n",
        "        self.fc2 = nn.Linear(64, 1)\n",
        "\n",
        "    def forward(self, x1,x2): #x1 and x2 correspond to the 2 images\n",
        "        x = torch.cat((x1, x2), dim=1)  # Concatenate along the channel dimension\n",
        "        x = F.relu(self.conv1(x)) # add relu activation function\n",
        "        x = self.bn1(x)\n",
        "        x = F.relu(self.conv2(x))\n",
        "        x = self.bn2(x)\n",
        "        x = self.pool1(x)\n",
        "        x = self.drop1(x)\n",
        "        x = F.relu(self.conv3(x))\n",
        "        x = self.bn3(x)\n",
        "        x = F.relu(self.conv4(x))\n",
        "        x = self.bn4(x)\n",
        "        x = self.pool2(x)\n",
        "        x = self.drop2(x)\n",
        "        x = x.view(-1, 32* 22* 22)\n",
        "        x = x.unsqueeze(1)\n",
        "        x, _ = self.lstm1(x)\n",
        "        x, _ = self.lstm2(x)\n",
        "        x = F.relu(self.fc1(x[:, -1, :]))\n",
        "        x = self.fc2(x)\n",
        "        x = x.squeeze()\n",
        "        return x\n"
      ],
      "metadata": {
        "id": "394A4x2Fd3zA"
      },
      "execution_count": null,
      "outputs": []
    },
    {
      "cell_type": "markdown",
      "source": [
        "This neural network will take in account meteo data."
      ],
      "metadata": {
        "id": "C7_3bRAPx9oN"
      }
    },
    {
      "cell_type": "code",
      "source": [
        "class Net2(nn.Module):\n",
        "\n",
        "    def __init__(self):\n",
        "        super(Net, self).__init__()\n",
        "        self.conv1 = nn.Conv2d(6, 16, kernel_size=3) # input channels to 6 because 2 images ! (RGBx2)\n",
        "        self.bn1 = nn.BatchNorm2d(16)\n",
        "        self.conv2 = nn.Conv2d(16, 16, kernel_size=3)\n",
        "        self.bn2 = nn.BatchNorm2d(16)\n",
        "        self.pool1 = nn.MaxPool2d(kernel_size=2)\n",
        "        self.drop1 = nn.Dropout2d(p=0.3)\n",
        "        self.conv3 = nn.Conv2d(16, 32, kernel_size=3)\n",
        "        self.bn3 = nn.BatchNorm2d(32)\n",
        "        self.conv4 = nn.Conv2d(32, 32, kernel_size=3)\n",
        "        self.bn4 = nn.BatchNorm2d(32)\n",
        "        self.pool2 = nn.MaxPool2d(kernel_size=2)\n",
        "        self.drop2 = nn.Dropout2d(p=0.1)\n",
        "        self.lstm1 = nn.LSTM(32* 22* 22, 128, batch_first=True)\n",
        "        self.lstm2 = nn.LSTM(128, 64, batch_first=True)\n",
        "        self.fc1 = nn.Linear(64, 64)\n",
        "        self.fc2 = nn.Linear(64, 1)\n",
        "\n",
        "    def forward(self, x1,x2): #x1 and x2 correspond to the 2 images\n",
        "        x = torch.cat((x1, x2), dim=1)  # Concatenate along the channel dimension\n",
        "        x = F.relu(self.conv1(x)) # add relu activation function\n",
        "        x = self.bn1(x)\n",
        "        x = F.relu(self.conv2(x))\n",
        "        x = self.bn2(x)\n",
        "        x = self.pool1(x)\n",
        "        x = self.drop1(x)\n",
        "        x = F.relu(self.conv3(x))\n",
        "        x = self.bn3(x)\n",
        "        x = F.relu(self.conv4(x))\n",
        "        x = self.bn4(x)\n",
        "        x = self.pool2(x)\n",
        "        x = self.drop2(x)\n",
        "        x = x.view(-1, 32* 22* 22)\n",
        "        x = x.unsqueeze(1)\n",
        "        x, _ = self.lstm1(x)\n",
        "        x, _ = self.lstm2(x)\n",
        "        x = F.relu(self.fc1(x[:, -1, :]))\n",
        "        x = self.fc2(x)\n",
        "        x = x.squeeze()\n",
        "        return x\n"
      ],
      "metadata": {
        "id": "EtbOaqwVY9zH"
      },
      "execution_count": null,
      "outputs": []
    },
    {
      "cell_type": "markdown",
      "source": [
        "I asked ChatGPT to give me a basic transformer architecture for what we want"
      ],
      "metadata": {
        "id": "mQ1VRwHOlCE0"
      }
    },
    {
      "cell_type": "code",
      "source": [
        "class TransformerNet(nn.Module):\n",
        "    def __init__(self, input_size, hidden_size, num_heads, num_layers, dropout):\n",
        "        super(TransformerNet, self).__init__()\n",
        "\n",
        "        # Transformer Encoder\n",
        "        self.transformer_encoder = nn.TransformerEncoder(\n",
        "            nn.TransformerEncoderLayer(\n",
        "                d_model=input_size,\n",
        "                nhead=num_heads,\n",
        "                dim_feedforward=hidden_size,\n",
        "                dropout=dropout\n",
        "            ),\n",
        "            num_layers=num_layers\n",
        "        )\n",
        "\n",
        "        # Fully-connected layers\n",
        "        self.fc1 = nn.Linear(input_size, hidden_size)\n",
        "        self.fc2 = nn.Linear(hidden_size, 1)\n",
        "\n",
        "    def forward(self, x):\n",
        "        x = self.transformer_encoder(x)\n",
        "        x = x.mean(dim=1)  # Global average pooling\n",
        "        x = F.relu(self.fc1(x))\n",
        "        x = self.fc2(x)\n",
        "        return x\n",
        "\n",
        "\n",
        "class TransformerModel(nn.Module):\n",
        "    def __init__(self):\n",
        "        super(TransformerModel, self).__init__()\n",
        "\n",
        "        self.embedding = nn.Embedding(256, 32)  # Assuming 8-bit images\n",
        "\n",
        "        # Create two instances of the TransformerNet\n",
        "        self.transformer_net1 = TransformerNet(input_size=32, hidden_size=64, num_heads=4, num_layers=2, dropout=0.1)\n",
        "        self.transformer_net2 = TransformerNet(input_size=32, hidden_size=64, num_heads=4, num_layers=2, dropout=0.1)\n",
        "\n",
        "    def forward(self, x1, x2):\n",
        "        x1 = self.embedding(x1)\n",
        "        x2 = self.embedding(x2)\n",
        "\n",
        "        # Reshape to (batch_size, sequence_length, input_size)\n",
        "        x1 = x1.permute(0, 2, 1)\n",
        "        x2 = x2.permute(0, 2, 1)\n",
        "\n",
        "        # Forward through the Transformer networks\n",
        "        x1 = self.transformer_net1(x1)\n",
        "        x2 = self.transformer_net2(x2)\n",
        "\n",
        "        # Concatenate the outputs\n",
        "        x = torch.cat((x1, x2), dim=1)\n",
        "\n",
        "        return x"
      ],
      "metadata": {
        "id": "8gX7BM5-lCck"
      },
      "execution_count": null,
      "outputs": []
    },
    {
      "cell_type": "markdown",
      "source": [
        "## Training and validation step using Cross validation"
      ],
      "metadata": {
        "id": "HmzP9S3ryFAt"
      }
    },
    {
      "cell_type": "code",
      "source": [
        "def RMSELoss(yhat,y): #defining RMSE\n",
        "    return torch.sqrt(torch.mean((yhat-y)**2))\n",
        "\n",
        "def reset_weights(m):\n",
        "  '''\n",
        "    Method to reset the model weights between each fold or utilization\n",
        "    Avoid weight leakage.\n",
        "  '''\n",
        "  for layer in m.children():\n",
        "   if hasattr(layer, 'reset_parameters'):\n",
        "    print(f'Reset trainable parameters of layer = {layer}')\n",
        "    layer.reset_parameters()\n",
        "\n",
        "def train_epoch(model, optimizer, criterion, train_loader, epoch, device):\n",
        "  \"\"\"\n",
        "    method to train the model on a given training set\n",
        "    return the loss at each step\n",
        "  \"\"\"\n",
        "  # Set model to training mode (affects dropout, batch norm e.g.)\n",
        "  model.train()\n",
        "  loss_history = []\n",
        "  lr_history = []\n",
        "  # loop to get batch_idx, data and target from train_loader\n",
        "  for batch_idx, (image0, image1, target) in enumerate(train_loader):\n",
        "\n",
        "      # Move the data to the device\n",
        "      image0,image1, target = image0.to(device),image1.to(device), target.to(device)\n",
        "      # Zero the gradients\n",
        "      optimizer.zero_grad()\n",
        "      # Compute model output\n",
        "      output = model(image0,image1)\n",
        "      output = output.to(torch.float64)\n",
        "      # Compute loss\n",
        "      loss = criterion(output, target)\n",
        "      # Backpropagate loss\n",
        "      loss.backward()\n",
        "      # Perform an optimizer step\n",
        "      optimizer.step()\n",
        "      # Compute loss (float value, not a tensor)\n",
        "      loss_float = loss.item()\n",
        "\n",
        "      loss_history.append(loss_float)\n",
        "  print(\n",
        "    f\"Train Epoch : {epoch}\"\n",
        "    f\"train_loss = {np.mean(loss_history)} \"\n",
        "  )\n",
        "\n",
        "  return loss_history\n",
        "\n",
        "@torch.no_grad()\n",
        "def validate(model, device, val_loader, criterion):\n",
        "  \"\"\"\n",
        "    method to validate the model on a given validation set\n",
        "    return the loss at each step\n",
        "  \"\"\"\n",
        "  model.eval()  # Important: eval mode (affects dropout, batch norm etc)\n",
        "  test_loss = 0\n",
        "  history = []\n",
        "\n",
        "  for image0, image1, target in val_loader:\n",
        "    image0,image1, target = image0.to(device),image1.to(device), target.to(device)\n",
        "    output = model(image0,image1)\n",
        "    test_loss = criterion(output, target).item()\n",
        "    history.append(test_loss)\n",
        "\n",
        "  print(\n",
        "    \"Test set: Average loss: {:.4f}\".format(\n",
        "       np.mean(history),\n",
        "       len(val_loader.dataset)\n",
        "      )\n",
        "  )\n",
        "  return history"
      ],
      "metadata": {
        "id": "vTz9bUS9mxQm"
      },
      "execution_count": null,
      "outputs": []
    },
    {
      "cell_type": "code",
      "source": [
        "# parameter for the training\n",
        "device = torch.device(\"cuda\" if torch.cuda.is_available() else \"cpu\")\n",
        "\n",
        "optimizer_kwargs = dict( # how did you decice that ?\n",
        "    lr=5e-4,\n",
        "    weight_decay=1e-3,\n",
        ")\n",
        "\n",
        "model = Net()\n",
        "model = model.to(device=device)\n",
        "\n",
        "criterion = RMSELoss #criterion for the training\n",
        "\n",
        "#parameter for the cross-validation\n",
        "num_epochs = 25\n",
        "folds = 4\n",
        "\n",
        "# Define the K-fold Cross Validator\n",
        "kfold = KFold(n_splits=folds, shuffle=False)\n",
        "\n",
        "# initialize each variables\n",
        "result_model = []\n",
        "result_best_val_loss = []  # Initialize with positive infinity\n",
        "result_best_epoch = []\n",
        "\n",
        "\n",
        "#iterate on each fold\n",
        "for fold, (train_ids, test_ids) in enumerate(kfold.split(ghi_train)):\n",
        "\n",
        "  print(\"fold \", fold+1) # just by convenience, first fold, second fold....\n",
        "\n",
        "  # prepare the train and validation set and corresponding loaders\n",
        "  train = Subset(ghi_train, train_ids)\n",
        "  test = Subset(ghi_train, test_ids)\n",
        "  #define the loader\n",
        "  train_loader = DataLoader(train, batch_sampler=SequentialBatchSampler(np.arange(len(train)), batch_size=32, dec = 32))\n",
        "  val_loader = DataLoader(test, batch_sampler=SequentialBatchSampler(np.arange(len(test)), batch_size=32, dec = 32))\n",
        "\n",
        "  #prepare the model\n",
        "  model.apply(reset_weights)\n",
        "  optimizer = torch.optim.AdamW(model.parameters(), **optimizer_kwargs)\n",
        "\n",
        "  # ===== Train Model =====\n",
        "  best_val_loss = float('inf')  # Initialize with positive infinity\n",
        "  best_epoch = 0\n",
        "  #train_loss_history = []\n",
        "  train_loss_step = []\n",
        "  #val_loss_history = []\n",
        "  val_loss_step = []\n",
        "  for epoch in range(1, num_epochs + 1):\n",
        "    train_loss = train_epoch(model, optimizer, criterion, train_loader, epoch, device)\n",
        "  #train_loss_history.extend(train_loss)\n",
        "    train_loss_step.append(np.mean(train_loss))\n",
        "\n",
        "    val_loss = validate(model, device, val_loader, criterion)\n",
        "  #val_loss_history.extend(val_loss)\n",
        "    loss = np.mean(val_loss)\n",
        "    val_loss_step.append(loss)\n",
        "\n",
        "  # Save the model with the lowest validation loss\n",
        "    if loss < best_val_loss:\n",
        "      best_val_loss = loss\n",
        "      best_epoch = epoch\n",
        "      best_model_state = model.state_dict()\n",
        "\n",
        "  print(\"best loss\",best_val_loss, \"epoch\", best_epoch)\n",
        "  result_model.append(best_model_state)\n",
        "  result_best_val_loss.append(best_val_loss)\n",
        "  result_best_epoch.append(best_epoch)\n",
        "\n",
        "  # ===== Plot training curves =====\n",
        "  t_val = np.arange(1, num_epochs + 1)\n",
        "\n",
        "# Increase the size of the plot\n",
        "  plt.figure(figsize=(20, 16))\n",
        "\n",
        "  plt.subplot(2, 3, 2)\n",
        "  plt.plot(t_val, train_loss_step, label=\"Train\")\n",
        "  plt.plot(t_val, val_loss_step, label=\"Val\")\n",
        "  plt.legend()\n",
        "  plt.xlabel(\"Epoch\")\n",
        "  plt.ylabel(\"Loss\")\n",
        "  plt.show()\n",
        "\n",
        "# define best parameters\n",
        "mean_loss = np.mean(result_best_val_loss)\n",
        "mean_epoch = math.ceil(np.mean(result_best_epoch))\n",
        "print(\"best loss\",np.mean(result_best_val_loss), \"epoch\", np.mean(result_best_epoch))\n"
      ],
      "metadata": {
        "id": "sCGcdD4ooB5O",
        "colab": {
          "base_uri": "https://localhost:8080/",
          "height": 1000
        },
        "outputId": "6da5b09d-1765-4ab9-bb0a-cfda76c94ef2"
      },
      "execution_count": null,
      "outputs": [
        {
          "output_type": "stream",
          "name": "stdout",
          "text": [
            "fold  1\n",
            "Reset trainable parameters of layer = Conv2d(6, 16, kernel_size=(3, 3), stride=(1, 1))\n",
            "Reset trainable parameters of layer = BatchNorm2d(16, eps=1e-05, momentum=0.1, affine=True, track_running_stats=True)\n",
            "Reset trainable parameters of layer = Conv2d(16, 16, kernel_size=(3, 3), stride=(1, 1))\n",
            "Reset trainable parameters of layer = BatchNorm2d(16, eps=1e-05, momentum=0.1, affine=True, track_running_stats=True)\n",
            "Reset trainable parameters of layer = Conv2d(16, 32, kernel_size=(3, 3), stride=(1, 1))\n",
            "Reset trainable parameters of layer = BatchNorm2d(32, eps=1e-05, momentum=0.1, affine=True, track_running_stats=True)\n",
            "Reset trainable parameters of layer = Conv2d(32, 32, kernel_size=(3, 3), stride=(1, 1))\n",
            "Reset trainable parameters of layer = BatchNorm2d(32, eps=1e-05, momentum=0.1, affine=True, track_running_stats=True)\n",
            "Reset trainable parameters of layer = LSTM(15488, 128, batch_first=True)\n",
            "Reset trainable parameters of layer = LSTM(128, 64, batch_first=True)\n",
            "Reset trainable parameters of layer = Linear(in_features=64, out_features=64, bias=True)\n",
            "Reset trainable parameters of layer = Linear(in_features=64, out_features=1, bias=True)\n",
            "Train Epoch : 1train_loss = 343.5891371472775 \n",
            "Test set: Average loss: 206.8320\n",
            "Train Epoch : 2train_loss = 290.02156010545497 \n",
            "Test set: Average loss: 164.3513\n",
            "Train Epoch : 3train_loss = 232.63603945533484 \n",
            "Test set: Average loss: 135.1889\n",
            "Train Epoch : 4train_loss = 189.92269481119646 \n",
            "Test set: Average loss: 119.8406\n",
            "Train Epoch : 5train_loss = 161.81204970438807 \n",
            "Test set: Average loss: 131.2077\n",
            "Train Epoch : 6train_loss = 141.63003395283081 \n",
            "Test set: Average loss: 126.9924\n",
            "Train Epoch : 7train_loss = 130.5092471831372 \n",
            "Test set: Average loss: 112.9656\n",
            "Train Epoch : 8train_loss = 125.32620531341853 \n",
            "Test set: Average loss: 128.0369\n",
            "Train Epoch : 9train_loss = 118.2215980355222 \n",
            "Test set: Average loss: 111.0807\n",
            "Train Epoch : 10train_loss = 115.51995300993903 \n",
            "Test set: Average loss: 108.6201\n",
            "Train Epoch : 11train_loss = 117.66982973566967 \n",
            "Test set: Average loss: 126.8274\n",
            "Train Epoch : 12train_loss = 112.22370723123383 \n",
            "Test set: Average loss: 110.4137\n",
            "Train Epoch : 13train_loss = 112.07240955752374 \n",
            "Test set: Average loss: 100.2690\n",
            "Train Epoch : 14train_loss = 105.54806743395243 \n",
            "Test set: Average loss: 95.4377\n",
            "Train Epoch : 15train_loss = 107.15487095535137 \n",
            "Test set: Average loss: 99.6377\n",
            "Train Epoch : 16train_loss = 104.28946552467306 \n",
            "Test set: Average loss: 95.7379\n",
            "Train Epoch : 17train_loss = 103.28068086373122 \n",
            "Test set: Average loss: 94.1235\n",
            "Train Epoch : 18train_loss = 100.92864176225584 \n",
            "Test set: Average loss: 92.7223\n",
            "Train Epoch : 19train_loss = 100.64321533204377 \n",
            "Test set: Average loss: 88.4742\n",
            "Train Epoch : 20train_loss = 100.30173948602902 \n",
            "Test set: Average loss: 90.8123\n",
            "Train Epoch : 21train_loss = 100.41501607896228 \n",
            "Test set: Average loss: 84.8169\n",
            "Train Epoch : 22train_loss = 97.61608048170162 \n",
            "Test set: Average loss: 88.5534\n",
            "Train Epoch : 23train_loss = 101.22326865345018 \n",
            "Test set: Average loss: 104.4704\n",
            "Train Epoch : 24train_loss = 101.96421582342242 \n",
            "Test set: Average loss: 91.7971\n",
            "Train Epoch : 25train_loss = 95.24747981921921 \n",
            "Test set: Average loss: 85.5182\n",
            "best loss 84.81689603609314 epoch 21\n"
          ]
        },
        {
          "output_type": "display_data",
          "data": {
            "text/plain": [
              "<Figure size 2000x1600 with 1 Axes>"
            ],
            "image/png": "[encoded data removed]"
          },
          "metadata": {}
        },
        {
          "output_type": "stream",
          "name": "stdout",
          "text": [
            "fold  2\n",
            "Reset trainable parameters of layer = Conv2d(6, 16, kernel_size=(3, 3), stride=(1, 1))\n",
            "Reset trainable parameters of layer = BatchNorm2d(16, eps=1e-05, momentum=0.1, affine=True, track_running_stats=True)\n",
            "Reset trainable parameters of layer = Conv2d(16, 16, kernel_size=(3, 3), stride=(1, 1))\n",
            "Reset trainable parameters of layer = BatchNorm2d(16, eps=1e-05, momentum=0.1, affine=True, track_running_stats=True)\n",
            "Reset trainable parameters of layer = Conv2d(16, 32, kernel_size=(3, 3), stride=(1, 1))\n",
            "Reset trainable parameters of layer = BatchNorm2d(32, eps=1e-05, momentum=0.1, affine=True, track_running_stats=True)\n",
            "Reset trainable parameters of layer = Conv2d(32, 32, kernel_size=(3, 3), stride=(1, 1))\n",
            "Reset trainable parameters of layer = BatchNorm2d(32, eps=1e-05, momentum=0.1, affine=True, track_running_stats=True)\n",
            "Reset trainable parameters of layer = LSTM(15488, 128, batch_first=True)\n",
            "Reset trainable parameters of layer = LSTM(128, 64, batch_first=True)\n",
            "Reset trainable parameters of layer = Linear(in_features=64, out_features=64, bias=True)\n",
            "Reset trainable parameters of layer = Linear(in_features=64, out_features=1, bias=True)\n",
            "Train Epoch : 1train_loss = 267.03846068605594 \n",
            "Test set: Average loss: 437.3602\n",
            "Train Epoch : 2train_loss = 228.26466411925045 \n",
            "Test set: Average loss: 387.0149\n",
            "Train Epoch : 3train_loss = 197.12924881491926 \n",
            "Test set: Average loss: 408.5055\n",
            "Train Epoch : 4train_loss = 162.9463567440077 \n",
            "Test set: Average loss: 367.8252\n",
            "Train Epoch : 5train_loss = 141.8528100166229 \n",
            "Test set: Average loss: 356.1473\n",
            "Train Epoch : 6train_loss = 125.86998099978298 \n",
            "Test set: Average loss: 375.3610\n",
            "Train Epoch : 7train_loss = 119.0568903766578 \n",
            "Test set: Average loss: 323.3525\n",
            "Train Epoch : 8train_loss = 114.01600816592682 \n",
            "Test set: Average loss: 319.1960\n"
          ]
        }
      ]
    },
    {
      "cell_type": "markdown",
      "source": [],
      "metadata": {
        "id": "9S5vSFqUq9dK"
      }
    },
    {
      "cell_type": "markdown",
      "source": [
        "## Train the final model"
      ],
      "metadata": {
        "id": "T2aaBV_V37fb"
      }
    },
    {
      "cell_type": "code",
      "source": [
        "# parameter for the training\n",
        "device = torch.device(\"cuda\" if torch.cuda.is_available() else \"cpu\")\n",
        "\n",
        "optimizer_kwargs = dict( # how did you decice that ?\n",
        "    lr=5e-4,\n",
        "    weight_decay=1e-3,\n",
        ")\n",
        "\n",
        "model = Net()\n",
        "model = model.to(device=device)\n",
        "model.apply(reset_weights)\n",
        "optimizer = torch.optim.AdamW(model.parameters(), **optimizer_kwargs)\n",
        "\n",
        "\n",
        "criterion = RMSELoss #criterion for the training\n",
        "\n",
        "#parameter\n",
        "num_epochs = mean_epoch\n",
        "\n",
        "# prepare the train and validation set and corresponding loaders\n",
        "test = Subset(ghi_train, test_ids)\n",
        "#define the loader\n",
        "train_loader = DataLoader(ghi_train, batch_sampler=SequentialBatchSampler(np.arange(len(train)), batch_size=32, dec = 32))\n",
        "\n",
        "# ===== Train Model =====\n",
        "train_loss_history = []\n",
        "train_loss_step = []\n",
        "for epoch in range(1, num_epochs + 1):\n",
        "  train_loss = train_epoch(model, optimizer, criterion, train_loader, epoch, device)\n",
        "  train_loss_history.extend(train_loss)\n",
        "  train_loss_step.append(np.mean(train_loss))\n",
        "\n",
        "# ===== Plot training curves =====\n",
        "t_val = np.arange(1, num_epochs + 1)\n",
        "\n",
        "# Increase the size of the plot\n",
        "plt.figure(figsize=(20, 16))\n",
        "\n",
        "plt.subplot(2, 3, 2)\n",
        "plt.plot(t_val, train_loss_step, label=\"Train\")\n",
        "plt.legend()\n",
        "plt.xlabel(\"Epoch\")\n",
        "plt.ylabel(\"Loss\")\n",
        "plt.show()\n",
        "\n",
        "# Increase the size of the plot\n",
        "plt.figure(figsize=(40, 16))\n",
        "\n",
        "t_train = np.arange(1, len(train_loss_history) + 1)/len(train_loss_history)*num_epochs\n",
        "\n",
        "plt.subplot(2, 3, 2)\n",
        "plt.plot(t_train, train_loss_history, label=\"Train\")\n",
        "plt.legend()\n",
        "plt.xlabel(\"Epoch\")\n",
        "plt.ylabel(\"Loss\")\n",
        "\n",
        "plt.show()\n",
        "\n",
        "\n",
        "# Increase the size of the plot\n",
        "plt.figure(figsize=(40, 16))\n",
        "\n",
        "\n",
        "plt.subplot(2, 3, 2)\n",
        "plt.plot(t_train[0:360], train_loss_history[0:360], label=\"Train\")\n",
        "plt.legend()\n",
        "plt.xlabel(\"Epoch\")\n",
        "plt.ylabel(\"Loss\")\n",
        "\n",
        "plt.show()\n",
        "\n",
        "# Increase the size of the plot\n",
        "plt.figure(figsize=(40, 16))\n",
        "\n",
        "plt.subplot(2, 3, 2)\n",
        "plt.plot(t_train[-361:-1], train_loss_history[-361:-1], label=\"Train\")\n",
        "plt.legend()\n",
        "plt.xlabel(\"Epoch\")\n",
        "plt.ylabel(\"Loss\")\n",
        "\n",
        "plt.show()"
      ],
      "metadata": {
        "id": "BmfcI3Ru1TLV"
      },
      "execution_count": null,
      "outputs": []
    },
    {
      "cell_type": "code",
      "source": [
        "# Increase the size of the plot\n",
        "#plt.figure(figsize=(40, 16))\n",
        "\n",
        "#t_valid = np.arange(1, len(val_loss_history) + 1)/len(val_loss_history)*num_epochs\n",
        "\n",
        "#plt.subplot(2, 3, 2)\n",
        "#plt.plot(t_valid, val_loss_history, label=\"Train\")\n",
        "#plt.legend()\n",
        "#plt.xlabel(\"Epoch\")\n",
        "#plt.ylabel(\"Loss\")\n",
        "\n",
        "#plt.show()\n",
        "\n",
        "\n",
        "# Increase the size of the plot\n",
        "#plt.figure(figsize=(40, 16))\n",
        "\n",
        "#t_valid = np.arange(1, len(val_loss_history) + 1)/len(val_loss_history)*num_epochs\n",
        "\n",
        "#plt.subplot(2, 3, 2)\n",
        "#plt.plot(t_valid[1:round(len(val_loss_history)/num_epochs*3)], val_loss_history[1:round(len(val_loss_history)/num_epochs)*3], label=\"Train\")\n",
        "#plt.legend()\n",
        "#plt.xlabel(\"Epoch\")\n",
        "#plt.ylabel(\"Loss\")\n",
        "\n",
        "#plt.show()"
      ],
      "metadata": {
        "id": "0Ox6S6bBro8X"
      },
      "execution_count": null,
      "outputs": []
    },
    {
      "cell_type": "markdown",
      "source": [
        "## Test the model"
      ],
      "metadata": {
        "id": "TJmj33Wi3_UC"
      }
    },
    {
      "cell_type": "code",
      "source": [
        "test_loader = DataLoader(ghi_test, batch_sampler=SequentialBatchSampler(np.arange(len(ghi_test)), batch_size=32, dec = 32))\n",
        "\n",
        "pred = []\n",
        "truth = []\n",
        "test_loss = []\n",
        "model.eval()\n",
        "for image0, image1, target in test_loader:\n",
        "  image0,image1, target = image0.to(device),image1.to(device), target.to(device)\n",
        "  output = model(image0,image1)\n",
        "  pred.extend(output.tolist())\n",
        "  truth.extend(target.tolist())\n",
        "  test_loss.append(criterion(output, target).item())\n",
        "\n",
        "Loss = np.mean(test_loss)\n",
        "\n",
        "print(\"the test loss is \",Loss)\n",
        "#### a plot to visualize our predictions vs the true vlaues\n",
        "plt.figure(figsize=(14,6))\n",
        "plt.plot(pred, 'g', label = \"Predictions\")\n",
        "plt.plot(truth, '--k',label = 'Truth')\n",
        "plt.legend(loc = 'best')"
      ],
      "metadata": {
        "id": "Rwpha8CaoUOM"
      },
      "execution_count": null,
      "outputs": []
    }
  ]
}
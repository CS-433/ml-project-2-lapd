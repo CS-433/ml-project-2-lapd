{
  "cells": [
    {
      "cell_type": "markdown",
      "metadata": {
        "id": "vfCzu0V6rU2W"
      },
      "source": [
        "# LAPD lab - Machine learning project\n",
        "\n",
        "This project aims to predict the GHI two hours in advance locally, from meteo data, date data and webcam images.\n",
        "\n",
        "We are providing a machine learning model to achieve this task."
      ]
    },
    {
      "cell_type": "markdown",
      "metadata": {
        "id": "sewTy6E9tfYy"
      },
      "source": [
        "## Environnement and data loading"
      ]
    },
    {
      "cell_type": "markdown",
      "metadata": {
        "id": "iG2LbXBUsOfd"
      },
      "source": [
        "First, we import all important packages, data, and set the seed (for torch)."
      ]
    },
    {
      "cell_type": "code",
      "execution_count": 48,
      "metadata": {
        "id": "VAAcv9Gu8edl"
      },
      "outputs": [],
      "source": [
        "#importing packages\n",
        "import numpy as np\n",
        "import pandas as pd\n",
        "import time\n",
        "import os\n",
        "from sklearn.metrics import mean_squared_error, mean_absolute_error, mean_absolute_percentage_error\n",
        "from sklearn.linear_model import Ridge, ElasticNet, LinearRegression\n",
        "from sklearn.model_selection import GridSearchCV, train_test_split\n",
        "from sklearn.model_selection import KFold\n",
        "import math\n",
        "import matplotlib.pyplot as plt\n",
        "import plotly.graph_objects as go\n",
        "import h5py\n",
        "import sys\n",
        "import datetime\n",
        "import math\n",
        "import random\n",
        "\n",
        "%matplotlib inline\n",
        "import torch\n",
        "import torch.nn as nn\n",
        "import torch.nn.functional as F\n",
        "from torch.utils.data import Dataset, DataLoader, random_split, Subset\n",
        "from torch.utils.data.sampler import SequentialSampler\n",
        "from torchvision import transforms, utils\n",
        "import cv2\n",
        "\n",
        "from datetime import datetime\n",
        "\n",
        "from google.colab import files ### file.download() to download a file from colab instead of right clicking"
      ]
    },
    {
      "cell_type": "code",
      "execution_count": 49,
      "metadata": {
        "colab": {
          "base_uri": "https://localhost:8080/"
        },
        "id": "kKwI1c8PHrry",
        "outputId": "e366b23c-c4bf-4626-b594-0a3d513f781a"
      },
      "outputs": [
        {
          "output_type": "execute_result",
          "data": {
            "text/plain": [
              "<torch._C.Generator at 0x79e5181caf10>"
            ]
          },
          "metadata": {},
          "execution_count": 49
        }
      ],
      "source": [
        "# Set fixed random number seed\n",
        "torch.manual_seed(3174)"
      ]
    },
    {
      "cell_type": "code",
      "execution_count": 50,
      "metadata": {
        "colab": {
          "base_uri": "https://localhost:8080/"
        },
        "id": "FYpUjFMl90-U",
        "outputId": "d50b58b4-18d5-49ff-a254-c80fcfbc64ed"
      },
      "outputs": [
        {
          "output_type": "stream",
          "name": "stdout",
          "text": [
            "Drive already mounted at /content/drive; to attempt to forcibly remount, call drive.mount(\"/content/drive\", force_remount=True).\n",
            "time.npy\n",
            "new_irradiance.xlsx\n",
            "ground_truth.npy\n",
            "labels.npy\n",
            "persistent_level.npy\n",
            "meteo.xlsx\n",
            "X.npy\n"
          ]
        }
      ],
      "source": [
        "#Mounting Drive\n",
        "from google.colab import drive\n",
        "# # # # This will prompt for authorization.\n",
        "drive.mount(\"/content/drive\")\n",
        "\n",
        "## change path to where the folder of the images is\n",
        "#path = 'drive/MyDrive/Colab Notebooks/CSS 433/data' #antonin\n",
        "#path = 'drive/MyDrive/master/CSS 433/data' #Jade\n",
        "#path = 'drive/MyDrive/data' #Jade ordi 2\n",
        "path = 'drive/MyDrive/CSS 433/data' #Alison\n",
        "\n",
        "for file in os.listdir(path):\n",
        "  print(file)"
      ]
    },
    {
      "cell_type": "code",
      "execution_count": 51,
      "metadata": {
        "id": "uGK08chBk2Ds"
      },
      "outputs": [],
      "source": [
        "# IMAGE DATA\n",
        "#time_image = np.load(os.path.join(path, 'time.npy'),allow_pickle=True)\n",
        "#ground_truth = np.load(os.path.join(path, 'ground_truth.npy'),allow_pickle=True)\n",
        "#labels = ghi_dataset.labels\n",
        "\n",
        "# Extract day, month, and year using list comprehension\n",
        "#date_info_image = [(dt.day, dt.month, dt.year) if isinstance(dt, datetime) else\n",
        "#                   (datetime.strptime(dt, '%Y-%m-%d %H:%M:%S').day,\n",
        "#                    datetime.strptime(dt, '%Y-%m-%d %H:%M:%S').month,\n",
        "#                    datetime.strptime(dt, '%Y-%m-%d %H:%M:%S').year)\n",
        "#                   for dt in time_image]\n",
        "\n",
        "# List comprehension to extract day values for all dates\n",
        "#day_values_image = [day for day, _, _ in date_info_image]\n",
        "#month_values_image = [month for _, month, _ in date_info_image]\n",
        "#year_values_image = [year for _ , _, year in date_info_image]\n",
        "#month_and_year_values_image = [(month, year) for _, month, year in date_info_image]\n",
        "\n",
        "# METEO DATA\n",
        "# Construct the full path to the Excel file\n",
        "#file_path = os.path.join(path, 'meteo.xlsx')\n",
        "# Use pandas to read the Excel file\n",
        "#df = pd.read_excel(file_path)\n",
        "\n",
        "#date = df['Date'].values\n",
        "#time_meteo = df['Time'].values\n",
        "#real_time_ch = df['Real_time_CH'].values\n",
        "#air_temp = df['Air_temp'].values\n",
        "#wind_speed = df['Wind_speed'].values\n",
        "#wind_dir = df['Wind_dir'].values\n",
        "\n",
        "# Extract day, month, and year using list comprehension\n",
        "#date_info = [(datetime.strptime(date_, '%d.%m.%Y').day,\n",
        "#              datetime.strptime(date_, '%d.%m.%Y').month,\n",
        "#              datetime.strptime(date_, '%d.%m.%Y').year) for date_ in date]\n",
        "\n",
        "# List comprehension to extract day values for all dates\n",
        "#day_values_meteo = [day for day, _, _ in date_info]\n",
        "#month_values_meteo = [month for _, month, _ in date_info]\n",
        "#year_values_meteo = [year for _ , _, year in date_info]\n",
        "#month_and_year_values_meteo = [(month, year) for _, month, year in date_info]"
      ]
    },
    {
      "cell_type": "code",
      "source": [
        "time_image = np.load(os.path.join(path, 'time.npy'),allow_pickle=True)\n",
        "date = [(dt.day, dt.month, dt.year, dt.hour, dt.minute, dt.second) if isinstance(dt, datetime) else\n",
        "         (datetime.strptime(dt, '%Y-%m-%d %H:%M:%S').day,\n",
        "          datetime.strptime(dt, '%Y-%m-%d %H:%M:%S').month,\n",
        "          datetime.strptime(dt, '%Y-%m-%d %H:%M:%S').year,\n",
        "          datetime.strptime(dt, '%Y-%m-%d %H:%M:%S').hour,\n",
        "          datetime.strptime(dt, '%Y-%m-%d %H:%M:%S').minute,\n",
        "          datetime.strptime(dt, '%Y-%m-%d %H:%M:%S').second)\n",
        "         for dt in time_image]\n",
        "max_year = np.max([entry[2] for entry in date])\n",
        "\n",
        "print(max_year, date[-1])"
      ],
      "metadata": {
        "colab": {
          "base_uri": "https://localhost:8080/"
        },
        "id": "E64IkjtNElXm",
        "outputId": "0569bcd8-55f6-4021-ccce-ef685ba1cee8"
      },
      "execution_count": 53,
      "outputs": [
        {
          "output_type": "stream",
          "name": "stdout",
          "text": [
            "2023 (23, 1, 2023, 15, 50, 0)\n"
          ]
        }
      ]
    },
    {
      "cell_type": "code",
      "source": [
        "# Transpose the list of tuples\n",
        "columns = list(zip(*date))\n",
        "\n",
        "# Separate each column\n",
        "day_column, month_column, year_column, hour_column, minute_column, second_column = columns"
      ],
      "metadata": {
        "id": "oQmg9UIdGnaK"
      },
      "execution_count": 54,
      "outputs": []
    },
    {
      "cell_type": "markdown",
      "metadata": {
        "id": "my5bHkMYsqRT"
      },
      "source": [
        "Below we create a class GHIDataset.\n",
        "\n",
        "This class allow use to load the dataset and access to each element individually."
      ]
    },
    {
      "cell_type": "code",
      "execution_count": 55,
      "metadata": {
        "id": "8Pu3cPwN_8QG"
      },
      "outputs": [],
      "source": [
        "class GHIDataset(Dataset):\n",
        "    \"\"\"GHI dataset.\"\"\"\n",
        "\n",
        "    def __init__(self, root_dir, labels, images, meteo, GHI, time, transform_input=None, transform_label=None):\n",
        "        \"\"\"\n",
        "        Arguments:\n",
        "            root_dir  (string) : Path to folder with all the files.\n",
        "            labels    (string) : Name of the file with labels.\n",
        "            images    (string) : Name of the file with images.\n",
        "            transform_input (callable, optional): Optional transform to be applied on a sample. .\n",
        "            transform_label (callable, optional): Optional transform to be applied on the label.\n",
        "        \"\"\"\n",
        "\n",
        "        self.root_dir = root_dir\n",
        "        self.labels = torch.from_numpy(np.load(os.path.join(self.root_dir,labels)))\n",
        "        self.images = np.load(os.path.join(self.root_dir,images),mmap_mode='c')\n",
        "\n",
        "        # Define the transforms to apply to labels or input\n",
        "        self.transform_input = transform_input\n",
        "        self.transform_label = transform_label\n",
        "\n",
        "        self.GHI = np.load(os.path.join(path, GHI),allow_pickle=True)\n",
        "\n",
        "        df = pd.read_excel(os.path.join(self.root_dir, meteo))\n",
        "\n",
        "        time_image = np.load(os.path.join(self.root_dir, time),allow_pickle=True)\n",
        "\n",
        "        # Extract day, month, and year using list comprehension\n",
        "        date = [(dt.day, dt.month, dt.year, dt.hour, dt.minute) if isinstance(dt, datetime) else\n",
        "         (datetime.strptime(dt, '%Y-%m-%d %H:%M:%S').day,\n",
        "          datetime.strptime(dt, '%Y-%m-%d %H:%M:%S').month,\n",
        "          datetime.strptime(dt, '%Y-%m-%d %H:%M:%S').year,\n",
        "          datetime.strptime(dt, '%Y-%m-%d %H:%M:%S').hour,\n",
        "          datetime.strptime(dt, '%Y-%m-%d %H:%M:%S').minute)\n",
        "         for dt in time_image]\n",
        "        # Transpose the list of tuples using zip\n",
        "        day_, month_, year_, hour_, minute_ = zip(*date)\n",
        "\n",
        "        # Convert the individual columns to PyTorch tensors if needed\n",
        "        self.day = torch.tensor(day_)\n",
        "        self.month = torch.tensor(month_)\n",
        "        self.year = torch.tensor(year_)\n",
        "        self.hour = torch.tensor(hour_)\n",
        "        self.minute = torch.tensor(minute_)\n",
        "        self.air_temp = torch.from_numpy(df['Air_temp'].values)\n",
        "        self.wind_speed = torch.from_numpy(df['Wind_speed'].values)\n",
        "        self.wind_dir = torch.from_numpy(df['Wind_dir'].values)\n",
        "\n",
        "    def __len__(self):\n",
        "        return self.labels.size()[0]\n",
        "\n",
        "    def __getitem__(self, idx):\n",
        "        \"\"\"\n",
        "        Arguments:\n",
        "            idx (list or torch.Tensor) : list of two dimension indicating which sample\n",
        "                                         to get and which webcam.\n",
        "        \"\"\"\n",
        "        if torch.is_tensor(idx):\n",
        "            idx = idx.tolist()\n",
        "\n",
        "        # Import from memory only the images that we want\n",
        "        image0 = np.array(self.images[idx,0])\n",
        "        image1 = np.array(self.images[idx,1])\n",
        "        labels = self.labels[idx]\n",
        "\n",
        "        GHI = self.GHI[idx]\n",
        "        day = self.day[idx]\n",
        "        month = self.month[idx]\n",
        "        year = self.year[idx]\n",
        "        hour = self.hour[idx]\n",
        "        minute = self.minute[idx]\n",
        "        air_temp = self.air_temp[idx]\n",
        "        wind_speed = self.wind_speed[idx]\n",
        "        wind_dir = self.wind_dir[idx]\n",
        "\n",
        "\n",
        "        # Apply the transforms\n",
        "        if self.transform_input:\n",
        "            image0 = self.transform_input(image0)\n",
        "            image1 = self.transform_input(image1)\n",
        "\n",
        "        if self.transform_label:\n",
        "            labels = self.transform_label(labels)\n",
        "\n",
        "        # Convert each tuple in the date list to a tensor\n",
        "        #date_tensors = [torch.tensor(d) for d in date]\n",
        "\n",
        "        # Stack the tensors along a new dimension to create a 2D tensor\n",
        "        #date_tensor = torch.stack(date_tensors, dim=0)\n",
        "        # Returns the sample as a tuple of (image0, image1, lables)\n",
        "        return image0,image1,day, month, year, hour, minute, GHI, air_temp, wind_speed, wind_dir, labels"
      ]
    },
    {
      "cell_type": "markdown",
      "metadata": {
        "id": "dzLKJARxtQmb"
      },
      "source": [
        "Below we load the dataset and transfom the images."
      ]
    },
    {
      "cell_type": "code",
      "execution_count": 56,
      "metadata": {
        "id": "abs-UtRAAKeA"
      },
      "outputs": [],
      "source": [
        "img_size = 100\n",
        "\n",
        "# Create a transform, it converts the np.array to a PIL Image,\n",
        "# then resize the image to img_size x img_size, then converts the image to tensor\n",
        "\n",
        "transform = transforms.Compose([transforms.ToPILImage(),transforms.Resize(img_size),transforms.ToTensor()])\n",
        "\n",
        "# Creates the dataset containing all the samples\n",
        "ghi_dataset = GHIDataset(path,'labels.npy','X.npy','meteo.xlsx','ground_truth.npy','time.npy',transform)"
      ]
    },
    {
      "cell_type": "markdown",
      "source": [],
      "metadata": {
        "id": "Ab9vOLERcDlE"
      }
    },
    {
      "cell_type": "markdown",
      "metadata": {
        "id": "J4hfpN-cikBo"
      },
      "source": [
        "We define a function to display a sample"
      ]
    },
    {
      "cell_type": "code",
      "execution_count": 58,
      "metadata": {
        "id": "Y3G0snzh1cMv"
      },
      "outputs": [],
      "source": [
        "def sample_display(image1, label):\n",
        "  # The image is a now a Torch vector, it needs to be reshaped for display\n",
        "  plt.imshow(image1.permute(1,2,0))\n",
        "  print(\"Label : \", label.item())"
      ]
    },
    {
      "cell_type": "markdown",
      "metadata": {
        "id": "HMnHSSy3iV5d"
      },
      "source": [
        "Small example to display a few samples"
      ]
    },
    {
      "cell_type": "code",
      "source": [
        "print(type(ghi_dataset[3]))"
      ],
      "metadata": {
        "colab": {
          "base_uri": "https://localhost:8080/"
        },
        "id": "uqw1m10AK8z1",
        "outputId": "d49189da-08f6-46b2-be13-596e296d119b"
      },
      "execution_count": 59,
      "outputs": [
        {
          "output_type": "stream",
          "name": "stdout",
          "text": [
            "<class 'tuple'>\n"
          ]
        }
      ]
    },
    {
      "cell_type": "code",
      "execution_count": 61,
      "metadata": {
        "colab": {
          "base_uri": "https://localhost:8080/",
          "height": 306
        },
        "id": "SN_PeUnHz1WX",
        "outputId": "e7c14a59-50aa-4d42-ce89-ee9c0cef6238"
      },
      "outputs": [
        {
          "output_type": "stream",
          "name": "stdout",
          "text": [
            "0 torch.Size([3, 100, 100]) torch.Size([3, 100, 100])\n",
            "Label :  133.0\n",
            "1 torch.Size([3, 100, 100]) torch.Size([3, 100, 100])\n",
            "Label :  127.0\n",
            "2 torch.Size([3, 100, 100]) torch.Size([3, 100, 100])\n",
            "Label :  140.0\n",
            "3 torch.Size([3, 100, 100]) torch.Size([3, 100, 100])\n",
            "Label :  141.0\n"
          ]
        },
        {
          "output_type": "display_data",
          "data": {
            "text/plain": [
              "<Figure size 640x480 with 4 Axes>"
            ],
            "image/png": "[encoded data removed]"
          },
          "metadata": {}
        }
      ],
      "source": [
        "sample_size = 4\n",
        "\n",
        "for i, sample in enumerate(ghi_dataset):\n",
        "    print(i, sample[0].shape, sample[1].shape)#, sample[2].shape)\n",
        "\n",
        "    ax = plt.subplot(1, sample_size, i + 1)\n",
        "    plt.tight_layout()\n",
        "\n",
        "    # Format the date as a string\n",
        "    formatted_date = \"{}/{}/{} {}:{}\".format(sample[2],sample[3], sample[4], sample[5], sample[6])\n",
        "\n",
        "    ax.set_title(formatted_date, fontsize=6)\n",
        "    ax.axis('off')\n",
        "    sample_display(sample[0],sample[-1]) #display image and label\n",
        "\n",
        "    if i == (sample_size-1):\n",
        "        plt.show()\n",
        "        break"
      ]
    },
    {
      "cell_type": "markdown",
      "metadata": {
        "id": "Yp4jRpCWtoLW"
      },
      "source": [
        "## Data management"
      ]
    },
    {
      "cell_type": "markdown",
      "metadata": {
        "id": "NZ2ESNdQjdgz"
      },
      "source": [
        "The data need to be splitted between train and test set.\n",
        "\n",
        "Here we define a function to split the dataset into a test set, a validation set and a train set.\n",
        "\n",
        "We also define a function to split the dataset in a given site to choose the test set we want.\n",
        "\n",
        "Note that we do not shuffle the data as it is time dependent. What is significant here is that we test for the last values of the set.\n"
      ]
    },
    {
      "cell_type": "code",
      "execution_count": 62,
      "metadata": {
        "id": "k1Xp7M2qMhGV"
      },
      "outputs": [],
      "source": [
        "def split_at_location(dataset, location = 0, lenght = 100):\n",
        "    \"\"\"\n",
        "      extract the test set at a givent location in the total dataset\n",
        "        Arguments:\n",
        "            location  (int) : position in the dataset to start to cut\n",
        "            lenght (int) : lenght of the test set\n",
        "        \"\"\"\n",
        "    train_idx = np.arange(len(dataset))\n",
        "    # Calculate start and stop indices while preventing out-of-range\n",
        "    start_idx = max(0,location)\n",
        "    end_idx = min(len(dataset),location+lenght)\n",
        "\n",
        "    subset = train_idx[start_idx:end_idx]\n",
        "\n",
        "      # Create the modified training set without the 5%\n",
        "    modified_train = np.concatenate([train_idx[:start_idx], train_idx[end_idx:]])\n",
        "\n",
        "    return Subset(dataset, modified_train), Subset(dataset, subset)\n",
        "\n",
        "def train_val_dataset(dataset,test_split=0.8, val_split=0.2):\n",
        "    \"\"\"\n",
        "      split dataset in train set, validation set, test set\n",
        "    \"\"\"\n",
        "\n",
        "    test_idx, train_idx = train_test_split(list(range(len(dataset))), test_size=test_split,shuffle=False)\n",
        "    train_idx, val_idx = train_test_split(train_idx,test_size=val_split,shuffle=False)\n",
        "\n",
        "    return Subset(dataset, train_idx), Subset(dataset, val_idx), Subset(dataset, test_idx)\n",
        "\n",
        "def shuffle(dataset) :\n",
        "\n",
        "  train_idx = np.arange(len(dataset))\n",
        "  random.shuffle(train_idx)\n",
        "  print(train_idx)\n",
        "  return Subset(dataset, train_idx)\n"
      ]
    },
    {
      "cell_type": "markdown",
      "metadata": {
        "id": "5PXyi0Y6W3rp"
      },
      "source": []
    },
    {
      "cell_type": "code",
      "execution_count": 63,
      "metadata": {
        "colab": {
          "base_uri": "https://localhost:8080/"
        },
        "id": "5VRaudRjLFfX",
        "outputId": "8367a317-0216-406b-fec4-542ef064534f"
      },
      "outputs": [
        {
          "output_type": "stream",
          "name": "stdout",
          "text": [
            "10293\n",
            "400\n"
          ]
        }
      ],
      "source": [
        "location = 1270\n",
        "\n",
        "ghi_train, ghi_test = split_at_location(ghi_dataset, location, 400)\n",
        "\n",
        "print(len(ghi_train))\n",
        "print(len(ghi_test))\n",
        "\n",
        "# below : in case of only one validation set, no cross validation\n",
        "\n",
        "#ghi_train ,ghi_val= split_at_location(ghi_train, 0, round(len(ghi_train)*0.10))\n",
        "\n",
        "#define the loader !\n",
        "#train_loader = DataLoader(ghi_train, batch_sampler=SequentialBatchSampler(np.arange(len(ghi_train)), batch_size=32, dec = 32))\n",
        "#test_loader = DataLoader(ghi_test, batch_sampler=SequentialBatchSampler(np.arange(len(ghi_test)), batch_size=32, dec = 32))\n"
      ]
    },
    {
      "cell_type": "markdown",
      "metadata": {
        "id": "aLXBt6j0kEGp"
      },
      "source": [
        "Finally we create the dataloader, to iterate on it as we compute each epoch.\n",
        "\n",
        "We define a custom batch sampler because we need to conserve the order of the samples in each batch. Moreover, we want the stride between each batch to be one and not the batch size. Such that for a dataset = [1,2,3,4,5,6] and a batch size of 3 we get [1,2,3], [2,3,4], [3,4,5], [4,5,6] as batches"
      ]
    },
    {
      "cell_type": "code",
      "execution_count": 64,
      "metadata": {
        "id": "zNkGWmZJnUfY"
      },
      "outputs": [],
      "source": [
        "from torch.utils.data import DataLoader\n",
        "from torch.utils.data.sampler import SequentialSampler\n",
        "\n",
        "class SequentialBatchSampler:\n",
        "    def __init__(self, data_source, batch_size, dec):\n",
        "        self.data_source = data_source\n",
        "        self.batch_size = batch_size\n",
        "        self.dec = dec\n",
        "\n",
        "    def __iter__(self):\n",
        "      i = 0\n",
        "      while i <= len(self.data_source)-self.batch_size-1:\n",
        "        yield self.data_source[i:i+self.batch_size]\n",
        "        i += self.dec"
      ]
    },
    {
      "cell_type": "markdown",
      "metadata": {
        "id": "Ie1V2awfrctB"
      },
      "source": [
        "## Models\n",
        "\n",
        "we defined and tested several models for our purpose.\n",
        "\n",
        "- Only taking in account the images, convolutionnal layer + LSTM\n",
        "- Taking in account the images and meteo data (not implemented yet)\n",
        "- Transformer (not implemented yet)"
      ]
    },
    {
      "cell_type": "code",
      "execution_count": 65,
      "metadata": {
        "id": "394A4x2Fd3zA"
      },
      "outputs": [],
      "source": [
        "class Net(nn.Module):\n",
        "\n",
        "    def __init__(self):\n",
        "        super(Net, self).__init__()\n",
        "        self.conv1 = nn.Conv2d(6, 16, kernel_size=3) # input channels to 6 because 2 images ! (RGBx2)\n",
        "        self.bn1 = nn.BatchNorm2d(16)\n",
        "        self.conv2 = nn.Conv2d(16, 16, kernel_size=3)\n",
        "        self.bn2 = nn.BatchNorm2d(16)\n",
        "        self.pool1 = nn.MaxPool2d(kernel_size=2)\n",
        "        self.drop1 = nn.Dropout2d(p=0.3)\n",
        "        self.conv3 = nn.Conv2d(16, 32, kernel_size=3)\n",
        "        self.bn3 = nn.BatchNorm2d(32)\n",
        "        self.conv4 = nn.Conv2d(32, 32, kernel_size=3)\n",
        "        self.bn4 = nn.BatchNorm2d(32)\n",
        "        self.pool2 = nn.MaxPool2d(kernel_size=2)\n",
        "        self.drop2 = nn.Dropout2d(p=0.1)\n",
        "        self.lstm1 = nn.LSTM(32* 22* 22, 128, batch_first=False)\n",
        "        self.lstm2 = nn.LSTM(128, 64, batch_first=False)\n",
        "        self.fc1 = nn.Linear(64, 64)\n",
        "        self.fc2 = nn.Linear(64, 1)\n",
        "\n",
        "    def forward(self, x1,x2): #x1 and x2 correspond to the 2 images\n",
        "        x = torch.cat((x1, x2), dim=1)  # Concatenate along the channel dimension\n",
        "        x = F.relu(self.conv1(x)) # add relu activation function\n",
        "        x = self.bn1(x)\n",
        "        x = F.relu(self.conv2(x))\n",
        "        x = self.bn2(x)\n",
        "        x = self.pool1(x)\n",
        "        x = self.drop1(x)\n",
        "        x = F.relu(self.conv3(x))\n",
        "        x = self.bn3(x)\n",
        "        x = F.relu(self.conv4(x))\n",
        "        x = self.bn4(x)\n",
        "        x = self.pool2(x)\n",
        "        x = self.drop2(x)\n",
        "        x = x.view(-1, 32* 22* 22)\n",
        "        x = x.unsqueeze(1)\n",
        "        x, _ = self.lstm1(x)\n",
        "        x, _ = self.lstm2(x)\n",
        "        x = F.relu(self.fc1(x[:, -1, :]))\n",
        "        x = self.fc2(x)\n",
        "        x = x.squeeze()\n",
        "        return x\n"
      ]
    },
    {
      "cell_type": "markdown",
      "metadata": {
        "id": "C7_3bRAPx9oN"
      },
      "source": [
        "This neural network will take in account meteo data."
      ]
    },
    {
      "cell_type": "code",
      "execution_count": 91,
      "metadata": {
        "id": "EtbOaqwVY9zH"
      },
      "outputs": [],
      "source": [
        "class Net2(nn.Module):\n",
        "\n",
        "    def __init__(self):\n",
        "        super(Net2, self).__init__()\n",
        "        self.conv1 = nn.Conv2d(6, 16, kernel_size=3) # input channels to 6 because 2 images ! (RGBx2)\n",
        "        self.bn1 = nn.BatchNorm2d(16)\n",
        "        self.conv2 = nn.Conv2d(16, 16, kernel_size=3)\n",
        "        self.bn2 = nn.BatchNorm2d(16)\n",
        "        self.pool1 = nn.MaxPool2d(kernel_size=2)\n",
        "        self.drop1 = nn.Dropout2d(p=0.3)\n",
        "        self.conv3 = nn.Conv2d(16, 32, kernel_size=3)\n",
        "        self.bn3 = nn.BatchNorm2d(32)\n",
        "        self.conv4 = nn.Conv2d(32, 32, kernel_size=3)\n",
        "        self.bn4 = nn.BatchNorm2d(32)\n",
        "        self.pool2 = nn.MaxPool2d(kernel_size=2)\n",
        "        self.drop2 = nn.Dropout2d(p=0.1)\n",
        "        #self.linear_layer = nn.Linear(5, 32*22*22)  # 5 is the number of additional features\n",
        "        self.lstm1 = nn.LSTM(32* 22* 22, 128, batch_first=True)\n",
        "        self.lstm2 = nn.LSTM(128, 64, batch_first=True)\n",
        "        self.fc1 = nn.Linear(64, 64)\n",
        "        self.fc2 = nn.Linear(64, 1)\n",
        "\n",
        "    def forward(self, x1,x2, day, month, year, hour, minute, GHI, air_temp, wind_speed, wind_dir): #x1 and x2 correspond to the 2 images\n",
        "\n",
        "        x = torch.cat((x1, x2), dim=1)  # Concatenate along the channel dimension\n",
        "        x = F.relu(self.conv1(x)) # add relu activation function\n",
        "        x = self.bn1(x)\n",
        "        skip1 = x\n",
        "        x = F.relu(self.conv2(x))\n",
        "        x = self.bn2(x)\n",
        "        x = self.pool1(x)\n",
        "        x = self.drop1(x)\n",
        "\n",
        "        x = F.relu(self.conv3(x))\n",
        "        x = self.bn3(x)\n",
        "        skip2 = x\n",
        "        x = F.relu(self.conv4(x))\n",
        "        x = self.bn4(x)\n",
        "        x = self.pool2(x)\n",
        "        x = self.drop2(x)\n",
        "\n",
        "        x = x.view(-1, 32* 22* 22)\n",
        "        x = x.unsqueeze(1)\n",
        "        x, _ = self.lstm1(x)\n",
        "        x, _ = self.lstm2(x)\n",
        "\n",
        "        # Skip connections\n",
        "        print(\"x size:\", x.size())\n",
        "        print(\"skip2 size:\", skip2.size())\n",
        "        x = x + skip2  # Add skip connection\n",
        "        x = F.relu(x)\n",
        "\n",
        "        # Process additional features separately\n",
        "        additional_features = torch.cat((day, month, year, hour, minute, GHI, air_temp, wind_speed, wind_dir), dim=1)\n",
        "        additional_features = F.relu(self.additional_fc1(additional_features))\n",
        "        additional_features = self.additional_fc2(additional_features)\n",
        "\n",
        "        # Sum output of LSTM and processed additional features\n",
        "        x = x[:, -1, :] + additional_features\n",
        "\n",
        "        # Fully connected layers\n",
        "        x = F.relu(self.fc1(x))\n",
        "        x = self.fc2(x)\n",
        "        x = x.squeeze()\n",
        "\n",
        "        return x"
      ]
    },
    {
      "cell_type": "markdown",
      "metadata": {
        "id": "mQ1VRwHOlCE0"
      },
      "source": [
        "I asked ChatGPT to give me a basic transformer architecture for what we want"
      ]
    },
    {
      "cell_type": "code",
      "execution_count": 67,
      "metadata": {
        "id": "8gX7BM5-lCck"
      },
      "outputs": [],
      "source": [
        "class TransformerNet(nn.Module):\n",
        "    def __init__(self, input_size, hidden_size, num_heads, num_layers, dropout):\n",
        "        super(TransformerNet, self).__init__()\n",
        "\n",
        "        # Transformer Encoder\n",
        "        self.transformer_encoder = nn.TransformerEncoder(\n",
        "            nn.TransformerEncoderLayer(\n",
        "                d_model=input_size,\n",
        "                nhead=num_heads,\n",
        "                dim_feedforward=hidden_size,\n",
        "                dropout=dropout\n",
        "            ),\n",
        "            num_layers=num_layers\n",
        "        )\n",
        "\n",
        "        # Fully-connected layers\n",
        "        self.fc1 = nn.Linear(input_size, hidden_size)\n",
        "        self.fc2 = nn.Linear(hidden_size, 1)\n",
        "\n",
        "    def forward(self, x):\n",
        "        x = self.transformer_encoder(x)\n",
        "        x = x.mean(dim=1)  # Global average pooling\n",
        "        x = F.relu(self.fc1(x))\n",
        "        x = self.fc2(x)\n",
        "        return x\n",
        "\n",
        "\n",
        "class TransformerModel(nn.Module):\n",
        "    def __init__(self):\n",
        "        super(TransformerModel, self).__init__()\n",
        "\n",
        "        self.embedding = nn.Embedding(256, 32)  # Assuming 8-bit images\n",
        "\n",
        "        # Create two instances of the TransformerNet\n",
        "        self.transformer_net1 = TransformerNet(input_size=32, hidden_size=64, num_heads=4, num_layers=2, dropout=0.1)\n",
        "        self.transformer_net2 = TransformerNet(input_size=32, hidden_size=64, num_heads=4, num_layers=2, dropout=0.1)\n",
        "\n",
        "    def forward(self, x1, x2):\n",
        "        x1 = self.embedding(x1)\n",
        "        x2 = self.embedding(x2)\n",
        "\n",
        "        # Reshape to (batch_size, sequence_length, input_size)\n",
        "        x1 = x1.permute(0, 2, 1)\n",
        "        x2 = x2.permute(0, 2, 1)\n",
        "\n",
        "        # Forward through the Transformer networks\n",
        "        x1 = self.transformer_net1(x1)\n",
        "        x2 = self.transformer_net2(x2)\n",
        "\n",
        "        # Concatenate the outputs\n",
        "        x = torch.cat((x1, x2), dim=1)\n",
        "\n",
        "        return x"
      ]
    },
    {
      "cell_type": "markdown",
      "metadata": {
        "id": "HmzP9S3ryFAt"
      },
      "source": [
        "## Training and validation step using Cross validation"
      ]
    },
    {
      "cell_type": "code",
      "execution_count": 73,
      "metadata": {
        "id": "vTz9bUS9mxQm"
      },
      "outputs": [],
      "source": [
        "def RMSELoss(yhat,y): #defining RMSE\n",
        "    return torch.sqrt(torch.mean((yhat-y)**2))\n",
        "\n",
        "def reset_weights(m):\n",
        "  '''\n",
        "    Method to reset the model weights between each fold or utilization\n",
        "    Avoid weight leakage.\n",
        "  '''\n",
        "  for layer in m.children():\n",
        "   if hasattr(layer, 'reset_parameters'):\n",
        "    print(f'Reset trainable parameters of layer = {layer}')\n",
        "    layer.reset_parameters()\n",
        "\n",
        "def train_epoch(model, optimizer, criterion, train_loader, epoch, device):\n",
        "  \"\"\"\n",
        "    method to train the model on a given training set\n",
        "    return the loss at each step\n",
        "  \"\"\"\n",
        "  # Set model to training mode (affects dropout, batch norm e.g.)\n",
        "  model.train()\n",
        "  loss_history = []\n",
        "  lr_history = []\n",
        "  # loop to get batch_idx, data and target from train_loader\n",
        "  for batch_idx, (image0, image1, day, month, year, hour, minute, GHI, air_temp, wind_speed, wind_dir, target) in enumerate(train_loader):\n",
        "\n",
        "      # Move the data to the device\n",
        "      image0,image1,day, month, year, hour, minute, GHI, air_temp, wind_speed, wind_dir, target = image0.to(device),image1.to(device), day.to(device), month.to(device), year.to(device), hour.to(device), minute.to(device), GHI.to(device), air_temp.to(device), wind_speed.to(device), wind_dir.to(device), target.to(device)\n",
        "      print(\"Minute size:\", minute.size())\n",
        "      print(\"GHI size:\", GHI.size())\n",
        "      print(\"Air Temp size:\", air_temp.size())\n",
        "      print(\"Wind Speed size:\", wind_speed.size())\n",
        "      print(\"Wind Dir size:\", wind_dir.size())\n",
        "      # Zero the gradients\n",
        "      optimizer.zero_grad()\n",
        "      # Compute model output\n",
        "      output = model(image0,image1, day, month, year, hour, minute, GHI, air_temp, wind_speed, wind_dir)\n",
        "      output = output.to(torch.float64)\n",
        "      # Compute loss\n",
        "      loss = criterion(output, target)\n",
        "      # Backpropagate loss\n",
        "      loss.backward()\n",
        "      # Perform an optimizer step\n",
        "      optimizer.step()\n",
        "      # Compute loss (float value, not a tensor)\n",
        "      loss_float = loss.item()\n",
        "\n",
        "      loss_history.append(loss_float)\n",
        "  print(\n",
        "    f\"Train Epoch : {epoch}\"\n",
        "    f\"train_loss = {np.mean(loss_history)} \"\n",
        "  )\n",
        "\n",
        "  return loss_history\n",
        "\n",
        "@torch.no_grad()\n",
        "def validate(model, device, val_loader, criterion):\n",
        "  \"\"\"\n",
        "    method to validate the model on a given validation set\n",
        "    return the loss at each step\n",
        "  \"\"\"\n",
        "  model.eval()  # Important: eval mode (affects dropout, batch norm etc)\n",
        "  test_loss = 0\n",
        "  history = []\n",
        "\n",
        "  for image0, image1, target in val_loader:\n",
        "    image0,image1, target = image0.to(device),image1.to(device), target.to(device)\n",
        "    output = model(image0,image1)\n",
        "    test_loss = criterion(output, target).item()\n",
        "    history.append(test_loss)\n",
        "\n",
        "  print(\n",
        "    \"Test set: Average loss: {:.4f}\".format(\n",
        "       np.mean(history),\n",
        "       len(val_loader.dataset)\n",
        "      )\n",
        "  )\n",
        "  return history"
      ]
    },
    {
      "cell_type": "code",
      "execution_count": 69,
      "metadata": {
        "colab": {
          "base_uri": "https://localhost:8080/",
          "height": 593
        },
        "id": "sCGcdD4ooB5O",
        "outputId": "d1cbaf34-cff9-426f-f2f5-79ed81d14415"
      },
      "outputs": [
        {
          "output_type": "stream",
          "name": "stdout",
          "text": [
            "fold  1\n",
            "Reset trainable parameters of layer = Conv2d(6, 16, kernel_size=(3, 3), stride=(1, 1))\n",
            "Reset trainable parameters of layer = BatchNorm2d(16, eps=1e-05, momentum=0.1, affine=True, track_running_stats=True)\n",
            "Reset trainable parameters of layer = Conv2d(16, 16, kernel_size=(3, 3), stride=(1, 1))\n",
            "Reset trainable parameters of layer = BatchNorm2d(16, eps=1e-05, momentum=0.1, affine=True, track_running_stats=True)\n",
            "Reset trainable parameters of layer = Conv2d(16, 32, kernel_size=(3, 3), stride=(1, 1))\n",
            "Reset trainable parameters of layer = BatchNorm2d(32, eps=1e-05, momentum=0.1, affine=True, track_running_stats=True)\n",
            "Reset trainable parameters of layer = Conv2d(32, 32, kernel_size=(3, 3), stride=(1, 1))\n",
            "Reset trainable parameters of layer = BatchNorm2d(32, eps=1e-05, momentum=0.1, affine=True, track_running_stats=True)\n",
            "Reset trainable parameters of layer = LSTM(15488, 128)\n",
            "Reset trainable parameters of layer = LSTM(128, 64)\n",
            "Reset trainable parameters of layer = Linear(in_features=64, out_features=64, bias=True)\n",
            "Reset trainable parameters of layer = Linear(in_features=64, out_features=1, bias=True)\n"
          ]
        },
        {
          "output_type": "error",
          "ename": "ValueError",
          "evalue": "ignored",
          "traceback": [
            "\u001b[0;31m---------------------------------------------------------------------------\u001b[0m",
            "\u001b[0;31mValueError\u001b[0m                                Traceback (most recent call last)",
            "\u001b[0;32m<ipython-input-69-92faa37bc36e>\u001b[0m in \u001b[0;36m<cell line: 28>\u001b[0;34m()\u001b[0m\n\u001b[1;32m     49\u001b[0m   \u001b[0mval_loss_step\u001b[0m \u001b[0;34m=\u001b[0m \u001b[0;34m[\u001b[0m\u001b[0;34m]\u001b[0m\u001b[0;34m\u001b[0m\u001b[0;34m\u001b[0m\u001b[0m\n\u001b[1;32m     50\u001b[0m   \u001b[0;32mfor\u001b[0m \u001b[0mepoch\u001b[0m \u001b[0;32min\u001b[0m \u001b[0mrange\u001b[0m\u001b[0;34m(\u001b[0m\u001b[0;36m1\u001b[0m\u001b[0;34m,\u001b[0m \u001b[0mnum_epochs\u001b[0m \u001b[0;34m+\u001b[0m \u001b[0;36m1\u001b[0m\u001b[0;34m)\u001b[0m\u001b[0;34m:\u001b[0m\u001b[0;34m\u001b[0m\u001b[0;34m\u001b[0m\u001b[0m\n\u001b[0;32m---> 51\u001b[0;31m     \u001b[0mtrain_loss\u001b[0m \u001b[0;34m=\u001b[0m \u001b[0mtrain_epoch\u001b[0m\u001b[0;34m(\u001b[0m\u001b[0mmodel\u001b[0m\u001b[0;34m,\u001b[0m \u001b[0moptimizer\u001b[0m\u001b[0;34m,\u001b[0m \u001b[0mcriterion\u001b[0m\u001b[0;34m,\u001b[0m \u001b[0mtrain_loader\u001b[0m\u001b[0;34m,\u001b[0m \u001b[0mepoch\u001b[0m\u001b[0;34m,\u001b[0m \u001b[0mdevice\u001b[0m\u001b[0;34m)\u001b[0m\u001b[0;34m\u001b[0m\u001b[0;34m\u001b[0m\u001b[0m\n\u001b[0m\u001b[1;32m     52\u001b[0m   \u001b[0;31m#train_loss_history.extend(train_loss)\u001b[0m\u001b[0;34m\u001b[0m\u001b[0;34m\u001b[0m\u001b[0m\n\u001b[1;32m     53\u001b[0m     \u001b[0mtrain_loss_step\u001b[0m\u001b[0;34m.\u001b[0m\u001b[0mappend\u001b[0m\u001b[0;34m(\u001b[0m\u001b[0mnp\u001b[0m\u001b[0;34m.\u001b[0m\u001b[0mmean\u001b[0m\u001b[0;34m(\u001b[0m\u001b[0mtrain_loss\u001b[0m\u001b[0;34m)\u001b[0m\u001b[0;34m)\u001b[0m\u001b[0;34m\u001b[0m\u001b[0;34m\u001b[0m\u001b[0m\n",
            "\u001b[0;32m<ipython-input-68-a6521dfd432b>\u001b[0m in \u001b[0;36mtrain_epoch\u001b[0;34m(model, optimizer, criterion, train_loader, epoch, device)\u001b[0m\n\u001b[1;32m     22\u001b[0m   \u001b[0mlr_history\u001b[0m \u001b[0;34m=\u001b[0m \u001b[0;34m[\u001b[0m\u001b[0;34m]\u001b[0m\u001b[0;34m\u001b[0m\u001b[0;34m\u001b[0m\u001b[0m\n\u001b[1;32m     23\u001b[0m   \u001b[0;31m# loop to get batch_idx, data and target from train_loader\u001b[0m\u001b[0;34m\u001b[0m\u001b[0;34m\u001b[0m\u001b[0m\n\u001b[0;32m---> 24\u001b[0;31m   \u001b[0;32mfor\u001b[0m \u001b[0mbatch_idx\u001b[0m\u001b[0;34m,\u001b[0m \u001b[0;34m(\u001b[0m\u001b[0mimage0\u001b[0m\u001b[0;34m,\u001b[0m \u001b[0mimage1\u001b[0m\u001b[0;34m,\u001b[0m \u001b[0mdate\u001b[0m\u001b[0;34m,\u001b[0m \u001b[0mGHI\u001b[0m\u001b[0;34m,\u001b[0m \u001b[0mair_temp\u001b[0m\u001b[0;34m,\u001b[0m \u001b[0mwind_speed\u001b[0m\u001b[0;34m,\u001b[0m \u001b[0mwind_dir\u001b[0m\u001b[0;34m,\u001b[0m \u001b[0mtarget\u001b[0m\u001b[0;34m)\u001b[0m \u001b[0;32min\u001b[0m \u001b[0menumerate\u001b[0m\u001b[0;34m(\u001b[0m\u001b[0mtrain_loader\u001b[0m\u001b[0;34m)\u001b[0m\u001b[0;34m:\u001b[0m\u001b[0;34m\u001b[0m\u001b[0;34m\u001b[0m\u001b[0m\n\u001b[0m\u001b[1;32m     25\u001b[0m \u001b[0;34m\u001b[0m\u001b[0m\n\u001b[1;32m     26\u001b[0m       \u001b[0;31m# Move the data to the device\u001b[0m\u001b[0;34m\u001b[0m\u001b[0;34m\u001b[0m\u001b[0m\n",
            "\u001b[0;31mValueError\u001b[0m: too many values to unpack (expected 8)"
          ]
        }
      ],
      "source": [
        "# parameter for the training\n",
        "device = torch.device(\"cuda\" if torch.cuda.is_available() else \"cpu\")\n",
        "\n",
        "optimizer_kwargs = dict( # how did you decice that ?\n",
        "    lr=5e-4,\n",
        "    weight_decay=1e-3,\n",
        ")\n",
        "\n",
        "model = Net()\n",
        "model = model.to(device=device)\n",
        "\n",
        "criterion = RMSELoss #criterion for the training\n",
        "\n",
        "#parameter for the cross-validation\n",
        "num_epochs = 25\n",
        "folds = 4\n",
        "\n",
        "# Define the K-fold Cross Validator\n",
        "kfold = KFold(n_splits=folds, shuffle=True)\n",
        "\n",
        "# initialize each variables\n",
        "result_model = []\n",
        "result_best_val_loss = []  # Initialize with positive infinity\n",
        "result_best_epoch = []\n",
        "\n",
        "\n",
        "#iterate on each fold\n",
        "for fold, (train_ids, test_ids) in enumerate(kfold.split(ghi_train)):\n",
        "\n",
        "  print(\"fold \", fold+1) # just by convenience, first fold, second fold....\n",
        "\n",
        "  # prepare the train and validation set and corresponding loaders\n",
        "  train = Subset(ghi_train, train_ids)\n",
        "  test = Subset(ghi_train, test_ids)\n",
        "  #define the loader\n",
        "  train_loader = DataLoader(train, batch_sampler=SequentialBatchSampler(np.arange(len(train)), batch_size=32, dec = 32))\n",
        "  val_loader = DataLoader(test, batch_sampler=SequentialBatchSampler(np.arange(len(test)), batch_size=32, dec = 32))\n",
        "\n",
        "  #prepare the model\n",
        "  model.apply(reset_weights)\n",
        "  optimizer = torch.optim.AdamW(model.parameters(), **optimizer_kwargs)\n",
        "\n",
        "  # ===== Train Model =====\n",
        "  best_val_loss = float('inf')  # Initialize with positive infinity\n",
        "  best_epoch = 0\n",
        "  #train_loss_history = []\n",
        "  train_loss_step = []\n",
        "  #val_loss_history = []\n",
        "  val_loss_step = []\n",
        "  for epoch in range(1, num_epochs + 1):\n",
        "    train_loss = train_epoch(model, optimizer, criterion, train_loader, epoch, device)\n",
        "  #train_loss_history.extend(train_loss)\n",
        "    train_loss_step.append(np.mean(train_loss))\n",
        "\n",
        "    val_loss = validate(model, device, val_loader, criterion)\n",
        "  #val_loss_history.extend(val_loss)\n",
        "    loss = np.mean(val_loss)\n",
        "    val_loss_step.append(loss)\n",
        "\n",
        "  # Save the model with the lowest validation loss\n",
        "    if loss < best_val_loss:\n",
        "      best_val_loss = loss\n",
        "      best_epoch = epoch\n",
        "      best_model_state = model.state_dict()\n",
        "\n",
        "  print(\"best loss\",best_val_loss, \"epoch\", best_epoch)\n",
        "  result_model.append(best_model_state)\n",
        "  result_best_val_loss.append(best_val_loss)\n",
        "  result_best_epoch.append(best_epoch)\n",
        "\n",
        "  # ===== Plot training curves =====\n",
        "  t_val = np.arange(1, num_epochs + 1)\n",
        "\n",
        "# Increase the size of the plot\n",
        "  plt.figure(figsize=(20, 16))\n",
        "\n",
        "  plt.subplot(2, 3, 2)\n",
        "  plt.plot(t_val, train_loss_step, label=\"Train\")\n",
        "  plt.plot(t_val, val_loss_step, label=\"Val\")\n",
        "  plt.legend()\n",
        "  plt.xlabel(\"Epoch\")\n",
        "  plt.ylabel(\"Loss\")\n",
        "  plt.show()\n",
        "\n",
        "# define best parameters\n",
        "mean_loss = np.mean(result_best_val_loss)\n",
        "mean_epoch = math.ceil(np.mean(result_best_epoch))\n",
        "print(\"best loss\",np.mean(result_best_val_loss), \"epoch\", mean_epoch)\n"
      ]
    },
    {
      "cell_type": "markdown",
      "metadata": {
        "id": "9S5vSFqUq9dK"
      },
      "source": []
    },
    {
      "cell_type": "markdown",
      "metadata": {
        "id": "T2aaBV_V37fb"
      },
      "source": [
        "## Train the final model"
      ]
    },
    {
      "cell_type": "code",
      "execution_count": null,
      "metadata": {
        "id": "BmfcI3Ru1TLV"
      },
      "outputs": [],
      "source": [
        "# parameter for the training\n",
        "device = torch.device(\"cuda\" if torch.cuda.is_available() else \"cpu\")\n",
        "\n",
        "optimizer_kwargs = dict( # how did you decice that ?\n",
        "    lr=5e-4,\n",
        "    weight_decay=1e-3,\n",
        ")\n",
        "\n",
        "model = Net()\n",
        "model = model.to(device=device)\n",
        "model.apply(reset_weights)\n",
        "optimizer = torch.optim.AdamW(model.parameters(), **optimizer_kwargs)\n",
        "\n",
        "\n",
        "criterion = RMSELoss #criterion for the training\n",
        "\n",
        "#parameter\n",
        "num_epochs = mean_epoch\n",
        "#num_epochs = 25\n",
        "\n",
        "#define the loader\n",
        "ghi_train_shuffle = shuffle(ghi_train)\n",
        "train_loader = DataLoader(ghi_train_shuffle, batch_sampler=SequentialBatchSampler(np.arange(len(ghi_train_shuffle)), batch_size=32, dec = 32))\n",
        "\n",
        "# ===== Train Model =====\n",
        "train_loss_history = []\n",
        "train_loss_step = []\n",
        "for epoch in range(1, num_epochs + 1):\n",
        "  train_loss = train_epoch(model, optimizer, criterion, train_loader, epoch, device)\n",
        "  train_loss_history.extend(train_loss)\n",
        "  train_loss_step.append(np.mean(train_loss))\n",
        "\n",
        "# ===== Plot training curves =====\n",
        "t_val = np.arange(1, num_epochs + 1)\n",
        "\n",
        "# Increase the size of the plot\n",
        "plt.figure(figsize=(20, 16))\n",
        "\n",
        "plt.subplot(2, 3, 2)\n",
        "plt.plot(t_val, train_loss_step, label=\"Train\")\n",
        "plt.legend()\n",
        "plt.xlabel(\"Epoch\")\n",
        "plt.ylabel(\"Loss\")\n",
        "plt.show()\n",
        "\n",
        "# Increase the size of the plot\n",
        "plt.figure(figsize=(40, 16))\n",
        "\n",
        "t_train = np.arange(1, len(train_loss_history) + 1)/len(train_loss_history)*num_epochs\n",
        "\n",
        "plt.subplot(2, 3, 2)\n",
        "plt.plot(t_train, train_loss_history, label=\"Train\")\n",
        "plt.legend()\n",
        "plt.xlabel(\"Epoch\")\n",
        "plt.ylabel(\"Loss\")\n",
        "\n",
        "plt.show()\n",
        "\n",
        "\n",
        "# Increase the size of the plot\n",
        "plt.figure(figsize=(40, 16))\n",
        "\n",
        "\n",
        "plt.subplot(2, 3, 2)\n",
        "plt.plot(t_train[0:360], train_loss_history[0:360], label=\"Train\")\n",
        "plt.legend()\n",
        "plt.xlabel(\"Epoch\")\n",
        "plt.ylabel(\"Loss\")\n",
        "\n",
        "plt.show()\n",
        "\n",
        "# Increase the size of the plot\n",
        "plt.figure(figsize=(40, 16))\n",
        "\n",
        "plt.subplot(2, 3, 2)\n",
        "plt.plot(t_train[-361:-1], train_loss_history[-361:-1], label=\"Train\")\n",
        "plt.legend()\n",
        "plt.xlabel(\"Epoch\")\n",
        "plt.ylabel(\"Loss\")\n",
        "\n",
        "plt.show()"
      ]
    },
    {
      "cell_type": "code",
      "execution_count": null,
      "metadata": {
        "id": "0Ox6S6bBro8X"
      },
      "outputs": [],
      "source": [
        "# Increase the size of the plot\n",
        "#plt.figure(figsize=(40, 16))\n",
        "\n",
        "#t_valid = np.arange(1, len(val_loss_history) + 1)/len(val_loss_history)*num_epochs\n",
        "\n",
        "#plt.subplot(2, 3, 2)\n",
        "#plt.plot(t_valid, val_loss_history, label=\"Train\")\n",
        "#plt.legend()\n",
        "#plt.xlabel(\"Epoch\")\n",
        "#plt.ylabel(\"Loss\")\n",
        "\n",
        "#plt.show()\n",
        "\n",
        "\n",
        "# Increase the size of the plot\n",
        "#plt.figure(figsize=(40, 16))\n",
        "\n",
        "#t_valid = np.arange(1, len(val_loss_history) + 1)/len(val_loss_history)*num_epochs\n",
        "\n",
        "#plt.subplot(2, 3, 2)\n",
        "#plt.plot(t_valid[1:round(len(val_loss_history)/num_epochs*3)], val_loss_history[1:round(len(val_loss_history)/num_epochs)*3], label=\"Train\")\n",
        "#plt.legend()\n",
        "#plt.xlabel(\"Epoch\")\n",
        "#plt.ylabel(\"Loss\")\n",
        "\n",
        "#plt.show()"
      ]
    },
    {
      "cell_type": "markdown",
      "metadata": {
        "id": "TJmj33Wi3_UC"
      },
      "source": [
        "## Test the model"
      ]
    },
    {
      "cell_type": "code",
      "execution_count": null,
      "metadata": {
        "id": "Rwpha8CaoUOM"
      },
      "outputs": [],
      "source": [
        "test_loader = DataLoader(ghi_test, batch_sampler=SequentialBatchSampler(np.arange(len(ghi_test)), batch_size=32, dec = 32))\n",
        "\n",
        "pred = []\n",
        "truth = []\n",
        "test_loss = []\n",
        "model.eval()\n",
        "for image0, image1, target in test_loader:\n",
        "  image0,image1, target = image0.to(device),image1.to(device), target.to(device)\n",
        "  output = model(image0,image1)\n",
        "  pred.extend(output.tolist())\n",
        "  truth.extend(target.tolist())\n",
        "  test_loss.append(criterion(output, target).item())\n",
        "\n",
        "Loss = np.mean(test_loss)\n",
        "\n",
        "print(\"the test loss is \",Loss)\n",
        "#### a plot to visualize our predictions vs the true vlaues\n",
        "plt.figure(figsize=(14,6))\n",
        "plt.plot(pred, 'g', label = \"Predictions\")\n",
        "plt.plot(truth, '--k',label = 'Truth')\n",
        "plt.legend(loc = 'best')"
      ]
    },
    {
      "cell_type": "markdown",
      "source": [
        "# Train Net2 (with other parameters)\n"
      ],
      "metadata": {
        "id": "k7ApVkEVXsY3"
      }
    },
    {
      "cell_type": "code",
      "source": [
        "# parameter for the training\n",
        "device = torch.device(\"cuda\" if torch.cuda.is_available() else \"cpu\")\n",
        "\n",
        "optimizer_kwargs = dict( # how did you decice that ?\n",
        "    lr=5e-4,\n",
        "    weight_decay=1e-3,\n",
        ")\n",
        "\n",
        "model = Net2()\n",
        "model = model.to(device=device)\n",
        "model.apply(reset_weights)\n",
        "optimizer = torch.optim.AdamW(model.parameters(), **optimizer_kwargs)\n",
        "\n",
        "\n",
        "criterion = RMSELoss #criterion for the training\n",
        "\n",
        "#parameter\n",
        "#num_epochs = mean_epoch\n",
        "num_epochs = 25\n",
        "\n",
        "#define the loader\n",
        "ghi_train_shuffle = shuffle(ghi_train)\n",
        "train_loader = DataLoader(ghi_train_shuffle, batch_sampler=SequentialBatchSampler(np.arange(len(ghi_train_shuffle)), batch_size=32, dec = 32))\n",
        "\n",
        "# ===== Train Model =====\n",
        "train_loss_history = []\n",
        "train_loss_step = []\n",
        "for epoch in range(1, num_epochs + 1):\n",
        "  train_loss = train_epoch(model, optimizer, criterion, train_loader, epoch, device)\n",
        "  train_loss_history.extend(train_loss)\n",
        "  train_loss_step.append(np.mean(train_loss))\n",
        "\n",
        "# ===== Plot training curves =====\n",
        "t_val = np.arange(1, num_epochs + 1)\n",
        "\n",
        "# Increase the size of the plot\n",
        "plt.figure(figsize=(20, 16))\n",
        "\n",
        "plt.subplot(2, 3, 2)\n",
        "plt.plot(t_val, train_loss_step, label=\"Train\")\n",
        "plt.legend()\n",
        "plt.xlabel(\"Epoch\")\n",
        "plt.ylabel(\"Loss\")\n",
        "plt.show()\n",
        "\n",
        "# Increase the size of the plot\n",
        "plt.figure(figsize=(40, 16))\n",
        "\n",
        "t_train = np.arange(1, len(train_loss_history) + 1)/len(train_loss_history)*num_epochs\n",
        "\n",
        "plt.subplot(2, 3, 2)\n",
        "plt.plot(t_train, train_loss_history, label=\"Train\")\n",
        "plt.legend()\n",
        "plt.xlabel(\"Epoch\")\n",
        "plt.ylabel(\"Loss\")\n",
        "\n",
        "plt.show()\n",
        "\n",
        "\n",
        "# Increase the size of the plot\n",
        "plt.figure(figsize=(40, 16))\n",
        "\n",
        "\n",
        "plt.subplot(2, 3, 2)\n",
        "plt.plot(t_train[0:360], train_loss_history[0:360], label=\"Train\")\n",
        "plt.legend()\n",
        "plt.xlabel(\"Epoch\")\n",
        "plt.ylabel(\"Loss\")\n",
        "\n",
        "plt.show()\n",
        "\n",
        "# Increase the size of the plot\n",
        "plt.figure(figsize=(40, 16))\n",
        "\n",
        "plt.subplot(2, 3, 2)\n",
        "plt.plot(t_train[-361:-1], train_loss_history[-361:-1], label=\"Train\")\n",
        "plt.legend()\n",
        "plt.xlabel(\"Epoch\")\n",
        "plt.ylabel(\"Loss\")\n",
        "\n",
        "plt.show()"
      ],
      "metadata": {
        "colab": {
          "base_uri": "https://localhost:8080/",
          "height": 738
        },
        "id": "f4qOzVC4XvXG",
        "outputId": "87bb6d29-3944-491b-c649-4b9414799f9a"
      },
      "execution_count": 92,
      "outputs": [
        {
          "output_type": "stream",
          "name": "stdout",
          "text": [
            "Reset trainable parameters of layer = Conv2d(6, 16, kernel_size=(3, 3), stride=(1, 1))\n",
            "Reset trainable parameters of layer = BatchNorm2d(16, eps=1e-05, momentum=0.1, affine=True, track_running_stats=True)\n",
            "Reset trainable parameters of layer = Conv2d(16, 16, kernel_size=(3, 3), stride=(1, 1))\n",
            "Reset trainable parameters of layer = BatchNorm2d(16, eps=1e-05, momentum=0.1, affine=True, track_running_stats=True)\n",
            "Reset trainable parameters of layer = Conv2d(16, 32, kernel_size=(3, 3), stride=(1, 1))\n",
            "Reset trainable parameters of layer = BatchNorm2d(32, eps=1e-05, momentum=0.1, affine=True, track_running_stats=True)\n",
            "Reset trainable parameters of layer = Conv2d(32, 32, kernel_size=(3, 3), stride=(1, 1))\n",
            "Reset trainable parameters of layer = BatchNorm2d(32, eps=1e-05, momentum=0.1, affine=True, track_running_stats=True)\n",
            "Reset trainable parameters of layer = LSTM(15488, 128, batch_first=True)\n",
            "Reset trainable parameters of layer = LSTM(128, 64, batch_first=True)\n",
            "Reset trainable parameters of layer = Linear(in_features=64, out_features=64, bias=True)\n",
            "Reset trainable parameters of layer = Linear(in_features=64, out_features=1, bias=True)\n",
            "[3586 1799 8676 ... 5877 5529 2687]\n",
            "Minute size: torch.Size([32])\n",
            "GHI size: torch.Size([32])\n",
            "Air Temp size: torch.Size([32])\n",
            "Wind Speed size: torch.Size([32])\n",
            "Wind Dir size: torch.Size([32])\n",
            "x size: torch.Size([32, 1, 64])\n",
            "skip2 size: torch.Size([32, 32, 46, 46])\n"
          ]
        },
        {
          "output_type": "error",
          "ename": "RuntimeError",
          "evalue": "ignored",
          "traceback": [
            "\u001b[0;31m---------------------------------------------------------------------------\u001b[0m",
            "\u001b[0;31mRuntimeError\u001b[0m                              Traceback (most recent call last)",
            "\u001b[0;32m<ipython-input-92-002414bedf8d>\u001b[0m in \u001b[0;36m<cell line: 28>\u001b[0;34m()\u001b[0m\n\u001b[1;32m     27\u001b[0m \u001b[0mtrain_loss_step\u001b[0m \u001b[0;34m=\u001b[0m \u001b[0;34m[\u001b[0m\u001b[0;34m]\u001b[0m\u001b[0;34m\u001b[0m\u001b[0;34m\u001b[0m\u001b[0m\n\u001b[1;32m     28\u001b[0m \u001b[0;32mfor\u001b[0m \u001b[0mepoch\u001b[0m \u001b[0;32min\u001b[0m \u001b[0mrange\u001b[0m\u001b[0;34m(\u001b[0m\u001b[0;36m1\u001b[0m\u001b[0;34m,\u001b[0m \u001b[0mnum_epochs\u001b[0m \u001b[0;34m+\u001b[0m \u001b[0;36m1\u001b[0m\u001b[0;34m)\u001b[0m\u001b[0;34m:\u001b[0m\u001b[0;34m\u001b[0m\u001b[0;34m\u001b[0m\u001b[0m\n\u001b[0;32m---> 29\u001b[0;31m   \u001b[0mtrain_loss\u001b[0m \u001b[0;34m=\u001b[0m \u001b[0mtrain_epoch\u001b[0m\u001b[0;34m(\u001b[0m\u001b[0mmodel\u001b[0m\u001b[0;34m,\u001b[0m \u001b[0moptimizer\u001b[0m\u001b[0;34m,\u001b[0m \u001b[0mcriterion\u001b[0m\u001b[0;34m,\u001b[0m \u001b[0mtrain_loader\u001b[0m\u001b[0;34m,\u001b[0m \u001b[0mepoch\u001b[0m\u001b[0;34m,\u001b[0m \u001b[0mdevice\u001b[0m\u001b[0;34m)\u001b[0m\u001b[0;34m\u001b[0m\u001b[0;34m\u001b[0m\u001b[0m\n\u001b[0m\u001b[1;32m     30\u001b[0m   \u001b[0mtrain_loss_history\u001b[0m\u001b[0;34m.\u001b[0m\u001b[0mextend\u001b[0m\u001b[0;34m(\u001b[0m\u001b[0mtrain_loss\u001b[0m\u001b[0;34m)\u001b[0m\u001b[0;34m\u001b[0m\u001b[0;34m\u001b[0m\u001b[0m\n\u001b[1;32m     31\u001b[0m   \u001b[0mtrain_loss_step\u001b[0m\u001b[0;34m.\u001b[0m\u001b[0mappend\u001b[0m\u001b[0;34m(\u001b[0m\u001b[0mnp\u001b[0m\u001b[0;34m.\u001b[0m\u001b[0mmean\u001b[0m\u001b[0;34m(\u001b[0m\u001b[0mtrain_loss\u001b[0m\u001b[0;34m)\u001b[0m\u001b[0;34m)\u001b[0m\u001b[0;34m\u001b[0m\u001b[0;34m\u001b[0m\u001b[0m\n",
            "\u001b[0;32m<ipython-input-73-d5e58889201b>\u001b[0m in \u001b[0;36mtrain_epoch\u001b[0;34m(model, optimizer, criterion, train_loader, epoch, device)\u001b[0m\n\u001b[1;32m     34\u001b[0m       \u001b[0moptimizer\u001b[0m\u001b[0;34m.\u001b[0m\u001b[0mzero_grad\u001b[0m\u001b[0;34m(\u001b[0m\u001b[0;34m)\u001b[0m\u001b[0;34m\u001b[0m\u001b[0;34m\u001b[0m\u001b[0m\n\u001b[1;32m     35\u001b[0m       \u001b[0;31m# Compute model output\u001b[0m\u001b[0;34m\u001b[0m\u001b[0;34m\u001b[0m\u001b[0m\n\u001b[0;32m---> 36\u001b[0;31m       \u001b[0moutput\u001b[0m \u001b[0;34m=\u001b[0m \u001b[0mmodel\u001b[0m\u001b[0;34m(\u001b[0m\u001b[0mimage0\u001b[0m\u001b[0;34m,\u001b[0m\u001b[0mimage1\u001b[0m\u001b[0;34m,\u001b[0m \u001b[0mday\u001b[0m\u001b[0;34m,\u001b[0m \u001b[0mmonth\u001b[0m\u001b[0;34m,\u001b[0m \u001b[0myear\u001b[0m\u001b[0;34m,\u001b[0m \u001b[0mhour\u001b[0m\u001b[0;34m,\u001b[0m \u001b[0mminute\u001b[0m\u001b[0;34m,\u001b[0m \u001b[0mGHI\u001b[0m\u001b[0;34m,\u001b[0m \u001b[0mair_temp\u001b[0m\u001b[0;34m,\u001b[0m \u001b[0mwind_speed\u001b[0m\u001b[0;34m,\u001b[0m \u001b[0mwind_dir\u001b[0m\u001b[0;34m)\u001b[0m\u001b[0;34m\u001b[0m\u001b[0;34m\u001b[0m\u001b[0m\n\u001b[0m\u001b[1;32m     37\u001b[0m       \u001b[0moutput\u001b[0m \u001b[0;34m=\u001b[0m \u001b[0moutput\u001b[0m\u001b[0;34m.\u001b[0m\u001b[0mto\u001b[0m\u001b[0;34m(\u001b[0m\u001b[0mtorch\u001b[0m\u001b[0;34m.\u001b[0m\u001b[0mfloat64\u001b[0m\u001b[0;34m)\u001b[0m\u001b[0;34m\u001b[0m\u001b[0;34m\u001b[0m\u001b[0m\n\u001b[1;32m     38\u001b[0m       \u001b[0;31m# Compute loss\u001b[0m\u001b[0;34m\u001b[0m\u001b[0;34m\u001b[0m\u001b[0m\n",
            "\u001b[0;32m/usr/local/lib/python3.10/dist-packages/torch/nn/modules/module.py\u001b[0m in \u001b[0;36m_wrapped_call_impl\u001b[0;34m(self, *args, **kwargs)\u001b[0m\n\u001b[1;32m   1516\u001b[0m             \u001b[0;32mreturn\u001b[0m \u001b[0mself\u001b[0m\u001b[0;34m.\u001b[0m\u001b[0m_compiled_call_impl\u001b[0m\u001b[0;34m(\u001b[0m\u001b[0;34m*\u001b[0m\u001b[0margs\u001b[0m\u001b[0;34m,\u001b[0m \u001b[0;34m**\u001b[0m\u001b[0mkwargs\u001b[0m\u001b[0;34m)\u001b[0m  \u001b[0;31m# type: ignore[misc]\u001b[0m\u001b[0;34m\u001b[0m\u001b[0;34m\u001b[0m\u001b[0m\n\u001b[1;32m   1517\u001b[0m         \u001b[0;32melse\u001b[0m\u001b[0;34m:\u001b[0m\u001b[0;34m\u001b[0m\u001b[0;34m\u001b[0m\u001b[0m\n\u001b[0;32m-> 1518\u001b[0;31m             \u001b[0;32mreturn\u001b[0m \u001b[0mself\u001b[0m\u001b[0;34m.\u001b[0m\u001b[0m_call_impl\u001b[0m\u001b[0;34m(\u001b[0m\u001b[0;34m*\u001b[0m\u001b[0margs\u001b[0m\u001b[0;34m,\u001b[0m \u001b[0;34m**\u001b[0m\u001b[0mkwargs\u001b[0m\u001b[0;34m)\u001b[0m\u001b[0;34m\u001b[0m\u001b[0;34m\u001b[0m\u001b[0m\n\u001b[0m\u001b[1;32m   1519\u001b[0m \u001b[0;34m\u001b[0m\u001b[0m\n\u001b[1;32m   1520\u001b[0m     \u001b[0;32mdef\u001b[0m \u001b[0m_call_impl\u001b[0m\u001b[0;34m(\u001b[0m\u001b[0mself\u001b[0m\u001b[0;34m,\u001b[0m \u001b[0;34m*\u001b[0m\u001b[0margs\u001b[0m\u001b[0;34m,\u001b[0m \u001b[0;34m**\u001b[0m\u001b[0mkwargs\u001b[0m\u001b[0;34m)\u001b[0m\u001b[0;34m:\u001b[0m\u001b[0;34m\u001b[0m\u001b[0;34m\u001b[0m\u001b[0m\n",
            "\u001b[0;32m/usr/local/lib/python3.10/dist-packages/torch/nn/modules/module.py\u001b[0m in \u001b[0;36m_call_impl\u001b[0;34m(self, *args, **kwargs)\u001b[0m\n\u001b[1;32m   1525\u001b[0m                 \u001b[0;32mor\u001b[0m \u001b[0m_global_backward_pre_hooks\u001b[0m \u001b[0;32mor\u001b[0m \u001b[0m_global_backward_hooks\u001b[0m\u001b[0;34m\u001b[0m\u001b[0;34m\u001b[0m\u001b[0m\n\u001b[1;32m   1526\u001b[0m                 or _global_forward_hooks or _global_forward_pre_hooks):\n\u001b[0;32m-> 1527\u001b[0;31m             \u001b[0;32mreturn\u001b[0m \u001b[0mforward_call\u001b[0m\u001b[0;34m(\u001b[0m\u001b[0;34m*\u001b[0m\u001b[0margs\u001b[0m\u001b[0;34m,\u001b[0m \u001b[0;34m**\u001b[0m\u001b[0mkwargs\u001b[0m\u001b[0;34m)\u001b[0m\u001b[0;34m\u001b[0m\u001b[0;34m\u001b[0m\u001b[0m\n\u001b[0m\u001b[1;32m   1528\u001b[0m \u001b[0;34m\u001b[0m\u001b[0m\n\u001b[1;32m   1529\u001b[0m         \u001b[0;32mtry\u001b[0m\u001b[0;34m:\u001b[0m\u001b[0;34m\u001b[0m\u001b[0;34m\u001b[0m\u001b[0m\n",
            "\u001b[0;32m<ipython-input-91-9713d7f8ffb0>\u001b[0m in \u001b[0;36mforward\u001b[0;34m(self, x1, x2, day, month, year, hour, minute, GHI, air_temp, wind_speed, wind_dir)\u001b[0m\n\u001b[1;32m     48\u001b[0m         \u001b[0mprint\u001b[0m\u001b[0;34m(\u001b[0m\u001b[0;34m\"x size:\"\u001b[0m\u001b[0;34m,\u001b[0m \u001b[0mx\u001b[0m\u001b[0;34m.\u001b[0m\u001b[0msize\u001b[0m\u001b[0;34m(\u001b[0m\u001b[0;34m)\u001b[0m\u001b[0;34m)\u001b[0m\u001b[0;34m\u001b[0m\u001b[0;34m\u001b[0m\u001b[0m\n\u001b[1;32m     49\u001b[0m         \u001b[0mprint\u001b[0m\u001b[0;34m(\u001b[0m\u001b[0;34m\"skip2 size:\"\u001b[0m\u001b[0;34m,\u001b[0m \u001b[0mskip2\u001b[0m\u001b[0;34m.\u001b[0m\u001b[0msize\u001b[0m\u001b[0;34m(\u001b[0m\u001b[0;34m)\u001b[0m\u001b[0;34m)\u001b[0m\u001b[0;34m\u001b[0m\u001b[0;34m\u001b[0m\u001b[0m\n\u001b[0;32m---> 50\u001b[0;31m         \u001b[0mx\u001b[0m \u001b[0;34m=\u001b[0m \u001b[0mx\u001b[0m \u001b[0;34m+\u001b[0m \u001b[0mskip2\u001b[0m  \u001b[0;31m# Add skip connection\u001b[0m\u001b[0;34m\u001b[0m\u001b[0;34m\u001b[0m\u001b[0m\n\u001b[0m\u001b[1;32m     51\u001b[0m         \u001b[0mx\u001b[0m \u001b[0;34m=\u001b[0m \u001b[0mF\u001b[0m\u001b[0;34m.\u001b[0m\u001b[0mrelu\u001b[0m\u001b[0;34m(\u001b[0m\u001b[0mx\u001b[0m\u001b[0;34m)\u001b[0m\u001b[0;34m\u001b[0m\u001b[0;34m\u001b[0m\u001b[0m\n\u001b[1;32m     52\u001b[0m \u001b[0;34m\u001b[0m\u001b[0m\n",
            "\u001b[0;31mRuntimeError\u001b[0m: The size of tensor a (64) must match the size of tensor b (46) at non-singleton dimension 3"
          ]
        }
      ]
    },
    {
      "cell_type": "markdown",
      "source": [
        "# Test Net2"
      ],
      "metadata": {
        "id": "LL24YlGtYHrs"
      }
    },
    {
      "cell_type": "code",
      "source": [
        "test_loader = DataLoader(ghi_test, batch_sampler=SequentialBatchSampler(np.arange(len(ghi_test)), batch_size=32, dec = 32))\n",
        "\n",
        "pred = []\n",
        "truth = []\n",
        "test_loss = []\n",
        "model.eval()\n",
        "for image0, image1, target in test_loader:\n",
        "  image0,image1, target = image0.to(device),image1.to(device), target.to(device)\n",
        "  output = model(image0,image1)\n",
        "  pred.extend(output.tolist())\n",
        "  truth.extend(target.tolist())\n",
        "  test_loss.append(criterion(output, target).item())\n",
        "\n",
        "Loss = np.mean(test_loss)\n",
        "\n",
        "print(\"the test loss is \",Loss)\n",
        "#### a plot to visualize our predictions vs the true vlaues\n",
        "plt.figure(figsize=(14,6))\n",
        "plt.plot(pred, 'g', label = \"Predictions\")\n",
        "plt.plot(truth, '--k',label = 'Truth')\n",
        "plt.legend(loc = 'best')"
      ],
      "metadata": {
        "id": "nTpF_x9cX9i_"
      },
      "execution_count": null,
      "outputs": []
    }
  ],
  "metadata": {
    "colab": {
      "provenance": [],
      "gpuType": "T4"
    },
    "kernelspec": {
      "display_name": "Python 3",
      "name": "python3"
    },
    "language_info": {
      "name": "python"
    }
  },
  "nbformat": 4,
  "nbformat_minor": 0
}